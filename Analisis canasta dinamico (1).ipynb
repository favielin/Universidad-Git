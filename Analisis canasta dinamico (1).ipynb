{
 "cells": [
  {
   "cell_type": "code",
   "execution_count": 1,
   "id": "fbbd8177-e4f3-4ccb-8730-3e6637cd7649",
   "metadata": {},
   "outputs": [],
   "source": [
    "import pandas as pd\n",
    "from mlxtend.frequent_patterns import apriori\n",
    "from mlxtend.frequent_patterns import association_rules\n",
    "import math\n",
    "import dataframe_image as dfi"
   ]
  },
  {
   "cell_type": "code",
   "execution_count": 2,
   "id": "0c91272b-4dcd-4d77-8158-50ef6ce82bd3",
   "metadata": {},
   "outputs": [],
   "source": [
    "#pip install dataframe_image"
   ]
  },
  {
   "cell_type": "code",
   "execution_count": 3,
   "id": "0d49614a-c8ee-4e2a-aa0f-9870eabe162b",
   "metadata": {},
   "outputs": [],
   "source": [
    "import networkx as nx\n",
    "import matplotlib.pyplot as plt"
   ]
  },
  {
   "cell_type": "code",
   "execution_count": 4,
   "id": "5ee58e36-937a-42f6-8242-71779555cbc6",
   "metadata": {},
   "outputs": [],
   "source": [
    "import numpy as np\n",
    "from datetime import datetime"
   ]
  },
  {
   "cell_type": "code",
   "execution_count": 5,
   "id": "10fbde3d-075d-470a-b915-80407f3ef31f",
   "metadata": {},
   "outputs": [],
   "source": [
    "data = pd.read_csv('data/input/demografico_centro.csv', sep='|')\n",
    "data0=pd.read_csv('data/input/demografico_centro.csv', sep='|')\n"
   ]
  },
  {
   "cell_type": "code",
   "execution_count": 6,
   "id": "ea3592a6-83d9-4d05-9db8-4897e8eab443",
   "metadata": {},
   "outputs": [
    {
     "data": {
      "text/plain": [
       "array(['DESPENSA', 'LEALTAD'], dtype=object)"
      ]
     },
     "execution_count": 6,
     "metadata": {},
     "output_type": "execute_result"
    }
   ],
   "source": [
    "data['PRODUCTO'].unique()"
   ]
  },
  {
   "cell_type": "code",
   "execution_count": 6,
   "id": "6d6febf6-b120-4a11-98c7-63a831769115",
   "metadata": {},
   "outputs": [
    {
     "name": "stderr",
     "output_type": "stream",
     "text": [
      "<ipython-input-6-83ed814146b6>:1: FutureWarning: null_counts is deprecated. Use show_counts instead\n",
      "  data.info(verbose=True,null_counts=True)\n"
     ]
    },
    {
     "name": "stdout",
     "output_type": "stream",
     "text": [
      "<class 'pandas.core.frame.DataFrame'>\n",
      "RangeIndex: 2503760 entries, 0 to 2503759\n",
      "Data columns (total 15 columns):\n",
      " #   Column             Non-Null Count    Dtype  \n",
      "---  ------             --------------    -----  \n",
      " 0   GRUPO              2503760 non-null  object \n",
      " 1   CADENA             2503760 non-null  object \n",
      " 2   EMAIL              2503760 non-null  object \n",
      " 3   EMAIL_1            2097124 non-null  object \n",
      " 4   ID_TARJETA         2503760 non-null  object \n",
      " 5   MONTO              2503760 non-null  float64\n",
      " 6   CANAL_COMPRA       2503760 non-null  object \n",
      " 7   PRODUCTO           2503760 non-null  object \n",
      " 8   GENERO             2351204 non-null  object \n",
      " 9   ESTADO             2503760 non-null  object \n",
      " 10  ANTIGUEDAD_TH_COM  2503760 non-null  int64  \n",
      " 11  SUELDO_APROX       2503760 non-null  float64\n",
      " 12  RANGO_DISPERSION   2503760 non-null  object \n",
      " 13  EDAD               2348503 non-null  float64\n",
      " 14  APP                2503760 non-null  object \n",
      "dtypes: float64(3), int64(1), object(11)\n",
      "memory usage: 286.5+ MB\n"
     ]
    }
   ],
   "source": [
    "data.info(verbose=True,null_counts=True)"
   ]
  },
  {
   "cell_type": "code",
   "execution_count": 8,
   "id": "4c1143e1-e1e9-445e-b115-bc6a3fe9dd4b",
   "metadata": {},
   "outputs": [],
   "source": [
    "data0.loc[data0['EMAIL']=='S/I','EMAIL']=data0['EMAIL_1']"
   ]
  },
  {
   "cell_type": "code",
   "execution_count": null,
   "id": "ad7cbac5-fbbd-4996-ae13-2a4000b2de00",
   "metadata": {},
   "outputs": [],
   "source": []
  },
  {
   "cell_type": "code",
   "execution_count": 9,
   "id": "c7b105ec-f479-4340-9b11-0669a4b7865c",
   "metadata": {},
   "outputs": [
    {
     "data": {
      "text/plain": [
       "array(['POS', 'eCommerce'], dtype=object)"
      ]
     },
     "execution_count": 9,
     "metadata": {},
     "output_type": "execute_result"
    }
   ],
   "source": [
    "data['CANAL_COMPRA'].unique()"
   ]
  },
  {
   "cell_type": "code",
   "execution_count": 10,
   "id": "cf6db440-1d50-4623-92fe-e1de825466a6",
   "metadata": {},
   "outputs": [],
   "source": [
    "#data=data[(data['CANAL_COMPRA']=='eCommerce')| (data['GRUPO']=='WAL MART')]"
   ]
  },
  {
   "cell_type": "code",
   "execution_count": 11,
   "id": "e74dac1f-6dc6-4127-a139-f6ed9ce92571",
   "metadata": {},
   "outputs": [],
   "source": [
    "# limpiamos campo APP quitamos espacios en blanco\n",
    "data.loc[data['APP']=='Con email      ', 'APP']='Con email'\n",
    "data.loc[data['APP']=='Sin app        ', 'APP']='Sin app'\n",
    "data.loc[data['APP']=='Con app        ', 'APP']='Con app'\n",
    "data.loc[data['APP'].isnull(), 'APP']='Sin app'"
   ]
  },
  {
   "cell_type": "code",
   "execution_count": 12,
   "id": "a58336b6-66fd-436f-af41-798456aa7adc",
   "metadata": {},
   "outputs": [],
   "source": [
    "#quitamos numermos sin tarjetas \n",
    "data=data[data['ID_TARJETA']!='0']\n",
    "data=data[data['GRUPO']!='OTRO']"
   ]
  },
  {
   "cell_type": "code",
   "execution_count": 13,
   "id": "f58eb861-f4c9-44f9-94e5-4ffe42447af8",
   "metadata": {},
   "outputs": [
    {
     "name": "stderr",
     "output_type": "stream",
     "text": [
      "<ipython-input-13-83ed814146b6>:1: FutureWarning: null_counts is deprecated. Use show_counts instead\n",
      "  data.info(verbose=True,null_counts=True)\n"
     ]
    },
    {
     "name": "stdout",
     "output_type": "stream",
     "text": [
      "<class 'pandas.core.frame.DataFrame'>\n",
      "Int64Index: 2503760 entries, 0 to 2503759\n",
      "Data columns (total 15 columns):\n",
      " #   Column             Non-Null Count    Dtype  \n",
      "---  ------             --------------    -----  \n",
      " 0   GRUPO              2503760 non-null  object \n",
      " 1   CADENA             2503760 non-null  object \n",
      " 2   EMAIL              2503760 non-null  object \n",
      " 3   EMAIL_1            2097124 non-null  object \n",
      " 4   ID_TARJETA         2503760 non-null  object \n",
      " 5   MONTO              2503760 non-null  float64\n",
      " 6   CANAL_COMPRA       2503760 non-null  object \n",
      " 7   PRODUCTO           2503760 non-null  object \n",
      " 8   GENERO             2351204 non-null  object \n",
      " 9   ESTADO             2503760 non-null  object \n",
      " 10  ANTIGUEDAD_TH_COM  2503760 non-null  int64  \n",
      " 11  SUELDO_APROX       2503760 non-null  float64\n",
      " 12  RANGO_DISPERSION   2503760 non-null  object \n",
      " 13  EDAD               2348503 non-null  float64\n",
      " 14  APP                2503760 non-null  object \n",
      "dtypes: float64(3), int64(1), object(11)\n",
      "memory usage: 305.6+ MB\n"
     ]
    }
   ],
   "source": [
    "data.info(verbose=True,null_counts=True)"
   ]
  },
  {
   "cell_type": "code",
   "execution_count": 14,
   "id": "fdcf0aa2-dce0-4695-8349-32680dacb732",
   "metadata": {},
   "outputs": [],
   "source": [
    "data.loc[(data['GRUPO']=='WAL MART')& (data['CANAL_COMPRA']=='eCommerce'),'GRUPO']='WAL MART Ecommerce'"
   ]
  },
  {
   "cell_type": "code",
   "execution_count": 15,
   "id": "21e0847e-368c-46e9-b896-3f55e96754f1",
   "metadata": {},
   "outputs": [],
   "source": [
    "#data=data[data['GRUPO']!='WAL MART']"
   ]
  },
  {
   "cell_type": "code",
   "execution_count": 16,
   "id": "cf70a33c-48bf-464f-8c60-da453b64d361",
   "metadata": {},
   "outputs": [],
   "source": [
    "data=data[(data['GRUPO']!='SORIANA') &(data['GRUPO']!='CHEDRAUI')]"
   ]
  },
  {
   "cell_type": "code",
   "execution_count": 17,
   "id": "5a2599ab-7743-41df-a903-df4057b5c31d",
   "metadata": {},
   "outputs": [],
   "source": [
    "order=pd.crosstab(data['GRUPO'], columns='count').reset_index()\n",
    "conteo=order.sort_values(by='count',ascending=False)"
   ]
  },
  {
   "cell_type": "code",
   "execution_count": 18,
   "id": "62ba7211-e316-47b1-a58f-96d89800b088",
   "metadata": {},
   "outputs": [
    {
     "data": {
      "text/html": [
       "<div>\n",
       "<style scoped>\n",
       "    .dataframe tbody tr th:only-of-type {\n",
       "        vertical-align: middle;\n",
       "    }\n",
       "\n",
       "    .dataframe tbody tr th {\n",
       "        vertical-align: top;\n",
       "    }\n",
       "\n",
       "    .dataframe thead th {\n",
       "        text-align: right;\n",
       "    }\n",
       "</style>\n",
       "<table border=\"1\" class=\"dataframe\">\n",
       "  <thead>\n",
       "    <tr style=\"text-align: right;\">\n",
       "      <th>col_0</th>\n",
       "      <th>GRUPO</th>\n",
       "      <th>count</th>\n",
       "    </tr>\n",
       "  </thead>\n",
       "  <tbody>\n",
       "    <tr>\n",
       "      <th>163</th>\n",
       "      <td>RAPPI</td>\n",
       "      <td>29973</td>\n",
       "    </tr>\n",
       "  </tbody>\n",
       "</table>\n",
       "</div>"
      ],
      "text/plain": [
       "col_0  GRUPO  count\n",
       "163    RAPPI  29973"
      ]
     },
     "execution_count": 18,
     "metadata": {},
     "output_type": "execute_result"
    }
   ],
   "source": [
    "conteo[conteo['GRUPO']=='RAPPI']"
   ]
  },
  {
   "cell_type": "code",
   "execution_count": 19,
   "id": "26285f63-7266-4641-8616-04a196678a75",
   "metadata": {
    "tags": []
   },
   "outputs": [],
   "source": [
    "data.loc[(data['GRUPO']!='WAL MART'),'COMERCIO']= data['GRUPO']\n",
    "data.loc[(data['GRUPO']=='WAL MART') & ((data['CADENA']=='C_ALPRECIO')|(data['CADENA']=='C_BODEGA AURRERA')|(data['CADENA']=='C_MI BODEGA SINALOA DE L')),'COMERCIO']='Bodega'\n",
    "\n",
    "data.loc[(data['GRUPO']=='WAL MART') & ((data['CADENA']=='C_SUMESA')|(data['CADENA']=='C_BODEGA AURRERA EXPRESS')|(data['CADENA']=='C_SUPERAMA')|(data['CADENA']=='C_WALMART EXP MERIDA OTE')),'COMERCIO']='Express'\n",
    "data.loc[(data['GRUPO']=='WAL MART') & ((data['CADENA']=='C_CITYCLUB')|(data['CADENA']=='C_CITY MARKET')|(data['CADENA']=='C_SAM S CLUB')),'COMERCIO']='Club de precios'\n",
    "\n",
    "data.loc[(data['GRUPO']=='WAL MART') & ((data['CADENA']=='C_BAE RIO BRAVENSE')|\n",
    "                                        (data['CADENA']=='C_BOD L CARDENAS AEROPUE')|\n",
    "                                        (data['CADENA']=='C_BAE GARCICRESPO')|\n",
    "                                        (data['CADENA']=='C_BAE CADEREYTA NORTE')|\n",
    "                                        (data['CADENA']=='C_BAE LA SANTISIMA')|\n",
    "                                        (data['CADENA']=='C_BAE P DE CHAVARRIA')|\n",
    "                                        (data['CADENA']=='C_MIB LOS ENCINOS')|\n",
    "                                        (data['CADENA']=='C_WALMART')|\n",
    "                                        (data['CADENA']=='C_BAE VILLAS NTE ZUMPANG')|\n",
    "                                        (data['CADENA']=='C_MIB SALINAS NORTE')|\n",
    "                                        (data['CADENA']=='C_MIB CHINA')|\n",
    "                                        (data['CADENA']=='C_BAE P DE LA CONSTITUCI')|\n",
    "                                        (data['CADENA']=='C_BAE LOS SAUCES')|\n",
    "                                        (data['CADENA']=='C_SUPERCENTER LAGOS MNO')|\n",
    "                                        (data['CADENA']=='C_SUPERCENTER APOCADACA')|\n",
    "                                        (data['CADENA']=='C_BAE BELCANTO')|\n",
    "                                        (data['CADENA']=='C_MIB CARRANZA SUR')|\n",
    "                                        (data['CADENA']=='C_BOD HDAS NORESTE')|\n",
    "                                        (data['CADENA']=='C_MIB CAMALU')|\n",
    "                                        (data['CADENA']=='C_BAE P DE LA MANZANA')|\n",
    "                                        (data['CADENA']=='C_BAE CEDIS MERIDA')|\n",
    "                                        (data['CADENA']=='C_MIB TEPEAPULCO')),'COMERCIO']='SuperMercado'"
   ]
  },
  {
   "cell_type": "code",
   "execution_count": 20,
   "id": "0404f04c-0f75-498a-94c6-95a9551580a4",
   "metadata": {},
   "outputs": [],
   "source": [
    "#data=data[(data['GRUPO']!='CHEDRAUI')&(data['GRUPO']!='SORIANA')]"
   ]
  },
  {
   "cell_type": "markdown",
   "id": "1f524044-50e1-4411-929d-873b0c23844b",
   "metadata": {},
   "source": [
    "##### Agrupamos Id_tarjeta y Grupo solo contando para obtener la tabla pivot con 1 y 0\n",
    "##### 1= tiene compras en el grupo y 0 no tiene compras en el grupo"
   ]
  },
  {
   "cell_type": "code",
   "execution_count": 21,
   "id": "30846d53-8de2-47c7-9975-6644af26b061",
   "metadata": {},
   "outputs": [],
   "source": [
    "agrupa = data.groupby(['ID_TARJETA','GRUPO'])['GRUPO'].count()\n"
   ]
  },
  {
   "cell_type": "code",
   "execution_count": 22,
   "id": "cbe45bd9-2bb1-4dc5-8dc1-00ba4a724ad5",
   "metadata": {},
   "outputs": [],
   "source": [
    "#agrupa1 = data.groupby(['ID_TARJETA','COMERCIO'])['GRUPO'].count().reset_index()"
   ]
  },
  {
   "cell_type": "code",
   "execution_count": 23,
   "id": "5d594bfc-8be2-4140-9486-a91bac18dc73",
   "metadata": {},
   "outputs": [],
   "source": [
    "pivot = agrupa.unstack()"
   ]
  },
  {
   "cell_type": "code",
   "execution_count": 24,
   "id": "ee4dc605-bbb2-4bf7-9965-ba3dd0b751ff",
   "metadata": {},
   "outputs": [],
   "source": [
    "pivot= pivot.fillna(0)"
   ]
  },
  {
   "cell_type": "code",
   "execution_count": 25,
   "id": "3c44c841-7523-428c-b875-2fe24e1bc968",
   "metadata": {
    "tags": []
   },
   "outputs": [],
   "source": [
    "# si es mayor el conteo a 1 se deja 1 y si no se queda en 0\n",
    "def encode_units(x) :\n",
    "    if x <=0:\n",
    "        return 0\n",
    "    if x>=1:\n",
    "        return 1\n",
    "\n",
    "canasta = pivot.applymap(encode_units)"
   ]
  },
  {
   "cell_type": "code",
   "execution_count": 26,
   "id": "643330c5-8d62-45ff-82a1-81e2deed9e69",
   "metadata": {
    "tags": []
   },
   "outputs": [
    {
     "data": {
      "text/html": [
       "<div>\n",
       "<style scoped>\n",
       "    .dataframe tbody tr th:only-of-type {\n",
       "        vertical-align: middle;\n",
       "    }\n",
       "\n",
       "    .dataframe tbody tr th {\n",
       "        vertical-align: top;\n",
       "    }\n",
       "\n",
       "    .dataframe thead th {\n",
       "        text-align: right;\n",
       "    }\n",
       "</style>\n",
       "<table border=\"1\" class=\"dataframe\">\n",
       "  <thead>\n",
       "    <tr style=\"text-align: right;\">\n",
       "      <th></th>\n",
       "      <th>support</th>\n",
       "      <th>itemsets</th>\n",
       "    </tr>\n",
       "  </thead>\n",
       "  <tbody>\n",
       "    <tr>\n",
       "      <th>39</th>\n",
       "      <td>0.742765</td>\n",
       "      <td>(WAL MART)</td>\n",
       "    </tr>\n",
       "    <tr>\n",
       "      <th>28</th>\n",
       "      <td>0.261401</td>\n",
       "      <td>(OXXO)</td>\n",
       "    </tr>\n",
       "    <tr>\n",
       "      <th>100</th>\n",
       "      <td>0.203288</td>\n",
       "      <td>(WAL MART, OXXO)</td>\n",
       "    </tr>\n",
       "    <tr>\n",
       "      <th>7</th>\n",
       "      <td>0.118742</td>\n",
       "      <td>(CLIP)</td>\n",
       "    </tr>\n",
       "    <tr>\n",
       "      <th>14</th>\n",
       "      <td>0.115544</td>\n",
       "      <td>(FARMACIAS GUADALAJARA)</td>\n",
       "    </tr>\n",
       "    <tr>\n",
       "      <th>...</th>\n",
       "      <td>...</td>\n",
       "      <td>...</td>\n",
       "    </tr>\n",
       "    <tr>\n",
       "      <th>73</th>\n",
       "      <td>0.010239</td>\n",
       "      <td>(HEB, FARMACIAS GUADALAJARA)</td>\n",
       "    </tr>\n",
       "    <tr>\n",
       "      <th>24</th>\n",
       "      <td>0.010091</td>\n",
       "      <td>(MCDONALDS)</td>\n",
       "    </tr>\n",
       "    <tr>\n",
       "      <th>59</th>\n",
       "      <td>0.010073</td>\n",
       "      <td>(TIENDAS 3B, CLIP)</td>\n",
       "    </tr>\n",
       "    <tr>\n",
       "      <th>9</th>\n",
       "      <td>0.010045</td>\n",
       "      <td>(CORNERSHOP)</td>\n",
       "    </tr>\n",
       "    <tr>\n",
       "      <th>50</th>\n",
       "      <td>0.010037</td>\n",
       "      <td>(LA COMER, ALSEA)</td>\n",
       "    </tr>\n",
       "  </tbody>\n",
       "</table>\n",
       "<p>145 rows × 2 columns</p>\n",
       "</div>"
      ],
      "text/plain": [
       "      support                      itemsets\n",
       "39   0.742765                    (WAL MART)\n",
       "28   0.261401                        (OXXO)\n",
       "100  0.203288              (WAL MART, OXXO)\n",
       "7    0.118742                        (CLIP)\n",
       "14   0.115544       (FARMACIAS GUADALAJARA)\n",
       "..        ...                           ...\n",
       "73   0.010239  (HEB, FARMACIAS GUADALAJARA)\n",
       "24   0.010091                   (MCDONALDS)\n",
       "59   0.010073            (TIENDAS 3B, CLIP)\n",
       "9    0.010045                  (CORNERSHOP)\n",
       "50   0.010037             (LA COMER, ALSEA)\n",
       "\n",
       "[145 rows x 2 columns]"
      ]
     },
     "execution_count": 26,
     "metadata": {},
     "output_type": "execute_result"
    }
   ],
   "source": [
    "#aplicamos apiori min_suport= frecuencia con la que se encuentra cada grupo a nivel BD\n",
    "frecuencia = apriori(canasta, min_support=0.01, use_colnames=True)\n",
    "frecuencia.sort_values(by='support',ascending=False)"
   ]
  },
  {
   "cell_type": "code",
   "execution_count": 27,
   "id": "2b29d251-3002-4e47-b8cb-129bc0c44c51",
   "metadata": {
    "tags": []
   },
   "outputs": [],
   "source": [
    "# aplicamos regla de asociacion tomando como metrica el lif en este caso >= 0.09\n",
    "reglas = association_rules(frecuencia, metric=\"lift\", min_threshold=1)"
   ]
  },
  {
   "cell_type": "code",
   "execution_count": 28,
   "id": "d5011b9c-f035-4f9a-a460-cc1f47a86f57",
   "metadata": {
    "tags": []
   },
   "outputs": [
    {
     "data": {
      "text/html": [
       "<div>\n",
       "<style scoped>\n",
       "    .dataframe tbody tr th:only-of-type {\n",
       "        vertical-align: middle;\n",
       "    }\n",
       "\n",
       "    .dataframe tbody tr th {\n",
       "        vertical-align: top;\n",
       "    }\n",
       "\n",
       "    .dataframe thead th {\n",
       "        text-align: right;\n",
       "    }\n",
       "</style>\n",
       "<table border=\"1\" class=\"dataframe\">\n",
       "  <thead>\n",
       "    <tr style=\"text-align: right;\">\n",
       "      <th></th>\n",
       "      <th>antecedents</th>\n",
       "      <th>consequents</th>\n",
       "      <th>antecedent support</th>\n",
       "      <th>consequent support</th>\n",
       "      <th>support</th>\n",
       "      <th>confidence</th>\n",
       "      <th>lift</th>\n",
       "      <th>leverage</th>\n",
       "      <th>conviction</th>\n",
       "    </tr>\n",
       "  </thead>\n",
       "  <tbody>\n",
       "    <tr>\n",
       "      <th>0</th>\n",
       "      <td>(7 ELEVEN)</td>\n",
       "      <td>(ALSEA)</td>\n",
       "      <td>0.066873</td>\n",
       "      <td>0.053268</td>\n",
       "      <td>0.012726</td>\n",
       "      <td>0.190295</td>\n",
       "      <td>3.572415</td>\n",
       "      <td>0.009163</td>\n",
       "      <td>1.169231</td>\n",
       "    </tr>\n",
       "    <tr>\n",
       "      <th>1</th>\n",
       "      <td>(ALSEA)</td>\n",
       "      <td>(7 ELEVEN)</td>\n",
       "      <td>0.053268</td>\n",
       "      <td>0.066873</td>\n",
       "      <td>0.012726</td>\n",
       "      <td>0.238897</td>\n",
       "      <td>3.572415</td>\n",
       "      <td>0.009163</td>\n",
       "      <td>1.226020</td>\n",
       "    </tr>\n",
       "    <tr>\n",
       "      <th>2</th>\n",
       "      <td>(7 ELEVEN)</td>\n",
       "      <td>(CLIP)</td>\n",
       "      <td>0.066873</td>\n",
       "      <td>0.118742</td>\n",
       "      <td>0.014362</td>\n",
       "      <td>0.214763</td>\n",
       "      <td>1.808647</td>\n",
       "      <td>0.006421</td>\n",
       "      <td>1.122282</td>\n",
       "    </tr>\n",
       "    <tr>\n",
       "      <th>3</th>\n",
       "      <td>(CLIP)</td>\n",
       "      <td>(7 ELEVEN)</td>\n",
       "      <td>0.118742</td>\n",
       "      <td>0.066873</td>\n",
       "      <td>0.014362</td>\n",
       "      <td>0.120949</td>\n",
       "      <td>1.808647</td>\n",
       "      <td>0.006421</td>\n",
       "      <td>1.061517</td>\n",
       "    </tr>\n",
       "    <tr>\n",
       "      <th>4</th>\n",
       "      <td>(7 ELEVEN)</td>\n",
       "      <td>(FARMACIAS GUADALAJARA)</td>\n",
       "      <td>0.066873</td>\n",
       "      <td>0.115544</td>\n",
       "      <td>0.012695</td>\n",
       "      <td>0.189843</td>\n",
       "      <td>1.643040</td>\n",
       "      <td>0.004969</td>\n",
       "      <td>1.091710</td>\n",
       "    </tr>\n",
       "    <tr>\n",
       "      <th>...</th>\n",
       "      <td>...</td>\n",
       "      <td>...</td>\n",
       "      <td>...</td>\n",
       "      <td>...</td>\n",
       "      <td>...</td>\n",
       "      <td>...</td>\n",
       "      <td>...</td>\n",
       "      <td>...</td>\n",
       "      <td>...</td>\n",
       "    </tr>\n",
       "    <tr>\n",
       "      <th>329</th>\n",
       "      <td>(MERCADO PAGO, CLIP)</td>\n",
       "      <td>(WAL MART, OXXO)</td>\n",
       "      <td>0.026634</td>\n",
       "      <td>0.203288</td>\n",
       "      <td>0.012177</td>\n",
       "      <td>0.457214</td>\n",
       "      <td>2.249098</td>\n",
       "      <td>0.006763</td>\n",
       "      <td>1.467820</td>\n",
       "    </tr>\n",
       "    <tr>\n",
       "      <th>330</th>\n",
       "      <td>(WAL MART)</td>\n",
       "      <td>(OXXO, MERCADO PAGO, CLIP)</td>\n",
       "      <td>0.742765</td>\n",
       "      <td>0.014632</td>\n",
       "      <td>0.012177</td>\n",
       "      <td>0.016395</td>\n",
       "      <td>1.120439</td>\n",
       "      <td>0.001309</td>\n",
       "      <td>1.001792</td>\n",
       "    </tr>\n",
       "    <tr>\n",
       "      <th>331</th>\n",
       "      <td>(OXXO)</td>\n",
       "      <td>(WAL MART, MERCADO PAGO, CLIP)</td>\n",
       "      <td>0.261401</td>\n",
       "      <td>0.021251</td>\n",
       "      <td>0.012177</td>\n",
       "      <td>0.046585</td>\n",
       "      <td>2.192101</td>\n",
       "      <td>0.006622</td>\n",
       "      <td>1.026572</td>\n",
       "    </tr>\n",
       "    <tr>\n",
       "      <th>332</th>\n",
       "      <td>(MERCADO PAGO)</td>\n",
       "      <td>(WAL MART, OXXO, CLIP)</td>\n",
       "      <td>0.084218</td>\n",
       "      <td>0.040861</td>\n",
       "      <td>0.012177</td>\n",
       "      <td>0.144593</td>\n",
       "      <td>3.538653</td>\n",
       "      <td>0.008736</td>\n",
       "      <td>1.121266</td>\n",
       "    </tr>\n",
       "    <tr>\n",
       "      <th>333</th>\n",
       "      <td>(CLIP)</td>\n",
       "      <td>(WAL MART, OXXO, MERCADO PAGO)</td>\n",
       "      <td>0.118742</td>\n",
       "      <td>0.029133</td>\n",
       "      <td>0.012177</td>\n",
       "      <td>0.102553</td>\n",
       "      <td>3.520190</td>\n",
       "      <td>0.008718</td>\n",
       "      <td>1.081810</td>\n",
       "    </tr>\n",
       "  </tbody>\n",
       "</table>\n",
       "<p>334 rows × 9 columns</p>\n",
       "</div>"
      ],
      "text/plain": [
       "              antecedents                     consequents  antecedent support  \\\n",
       "0              (7 ELEVEN)                         (ALSEA)            0.066873   \n",
       "1                 (ALSEA)                      (7 ELEVEN)            0.053268   \n",
       "2              (7 ELEVEN)                          (CLIP)            0.066873   \n",
       "3                  (CLIP)                      (7 ELEVEN)            0.118742   \n",
       "4              (7 ELEVEN)         (FARMACIAS GUADALAJARA)            0.066873   \n",
       "..                    ...                             ...                 ...   \n",
       "329  (MERCADO PAGO, CLIP)                (WAL MART, OXXO)            0.026634   \n",
       "330            (WAL MART)      (OXXO, MERCADO PAGO, CLIP)            0.742765   \n",
       "331                (OXXO)  (WAL MART, MERCADO PAGO, CLIP)            0.261401   \n",
       "332        (MERCADO PAGO)          (WAL MART, OXXO, CLIP)            0.084218   \n",
       "333                (CLIP)  (WAL MART, OXXO, MERCADO PAGO)            0.118742   \n",
       "\n",
       "     consequent support   support  confidence      lift  leverage  conviction  \n",
       "0              0.053268  0.012726    0.190295  3.572415  0.009163    1.169231  \n",
       "1              0.066873  0.012726    0.238897  3.572415  0.009163    1.226020  \n",
       "2              0.118742  0.014362    0.214763  1.808647  0.006421    1.122282  \n",
       "3              0.066873  0.014362    0.120949  1.808647  0.006421    1.061517  \n",
       "4              0.115544  0.012695    0.189843  1.643040  0.004969    1.091710  \n",
       "..                  ...       ...         ...       ...       ...         ...  \n",
       "329            0.203288  0.012177    0.457214  2.249098  0.006763    1.467820  \n",
       "330            0.014632  0.012177    0.016395  1.120439  0.001309    1.001792  \n",
       "331            0.021251  0.012177    0.046585  2.192101  0.006622    1.026572  \n",
       "332            0.040861  0.012177    0.144593  3.538653  0.008736    1.121266  \n",
       "333            0.029133  0.012177    0.102553  3.520190  0.008718    1.081810  \n",
       "\n",
       "[334 rows x 9 columns]"
      ]
     },
     "execution_count": 28,
     "metadata": {},
     "output_type": "execute_result"
    }
   ],
   "source": [
    "reglas"
   ]
  },
  {
   "cell_type": "code",
   "execution_count": 30,
   "id": "0196b311-656c-4bba-a32a-53f0d3d47b95",
   "metadata": {
    "tags": []
   },
   "outputs": [],
   "source": [
    "#generamos data Frame de las reglas de asociacion\n",
    "dataGrafos=reglas[['antecedents','consequents','lift']].reset_index()"
   ]
  },
  {
   "cell_type": "code",
   "execution_count": 32,
   "id": "8a350a8f-be8c-40d7-a2c8-cad5a1f914cb",
   "metadata": {
    "tags": []
   },
   "outputs": [],
   "source": [
    "#Limpiamos caracteres especiales en DF de reglas de asociacion\n",
    "dataGrafos[\"antecedents\"] = dataGrafos[\"antecedents\"].astype(str).str.extract(r\"\\((.*?)\\)\" , expand=False)\n",
    "dataGrafos[\"consequents\"] = dataGrafos[\"consequents\"].astype(str).str.extract(r\"\\((.*?)\\)\" , expand=False)"
   ]
  },
  {
   "cell_type": "code",
   "execution_count": 33,
   "id": "f11508c5-614b-4caf-9835-d532cf0117f6",
   "metadata": {},
   "outputs": [],
   "source": [
    "dataGrafos[\"antecedents\"] = dataGrafos[\"antecedents\"].replace('{','',regex=True).astype(str)\n",
    "dataGrafos[\"antecedents\"] = dataGrafos[\"antecedents\"].replace('}','',regex=True).astype(str)\n",
    "\n",
    "dataGrafos[\"consequents\"] = dataGrafos[\"consequents\"].replace('{','',regex=True).astype(str)\n",
    "dataGrafos[\"consequents\"] = dataGrafos[\"consequents\"].replace('}','',regex=True).astype(str)"
   ]
  },
  {
   "cell_type": "code",
   "execution_count": 34,
   "id": "658daad9-3600-45c1-b797-4a2d0bfdf1b6",
   "metadata": {},
   "outputs": [],
   "source": [
    "dataGrafos[\"antecedents\"].replace(regex=True, inplace=True, to_replace=r'[^a-zA-Z0-9 ]+', value=r'')\n",
    "dataGrafos[\"consequents\"].replace(regex=True, inplace=True, to_replace=r'[^a-zA-Z0-9 ]+', value=r'')"
   ]
  },
  {
   "cell_type": "code",
   "execution_count": 38,
   "id": "e1fd8872-2f51-4b0d-93ef-957ae32fb7f7",
   "metadata": {},
   "outputs": [
    {
     "data": {
      "text/html": [
       "<div>\n",
       "<style scoped>\n",
       "    .dataframe tbody tr th:only-of-type {\n",
       "        vertical-align: middle;\n",
       "    }\n",
       "\n",
       "    .dataframe tbody tr th {\n",
       "        vertical-align: top;\n",
       "    }\n",
       "\n",
       "    .dataframe thead th {\n",
       "        text-align: right;\n",
       "    }\n",
       "</style>\n",
       "<table border=\"1\" class=\"dataframe\">\n",
       "  <thead>\n",
       "    <tr style=\"text-align: right;\">\n",
       "      <th></th>\n",
       "      <th>index</th>\n",
       "      <th>antecedents</th>\n",
       "      <th>consequents</th>\n",
       "      <th>lift</th>\n",
       "    </tr>\n",
       "  </thead>\n",
       "  <tbody>\n",
       "    <tr>\n",
       "      <th>249</th>\n",
       "      <td>249</td>\n",
       "      <td>WAL MART</td>\n",
       "      <td>OXXO FARMACIAS SIMILARES</td>\n",
       "      <td>1.169750</td>\n",
       "    </tr>\n",
       "    <tr>\n",
       "      <th>225</th>\n",
       "      <td>225</td>\n",
       "      <td>WAL MART</td>\n",
       "      <td>OXXO FARMACIA SAN PABLO</td>\n",
       "      <td>1.169459</td>\n",
       "    </tr>\n",
       "    <tr>\n",
       "      <th>267</th>\n",
       "      <td>267</td>\n",
       "      <td>WAL MART</td>\n",
       "      <td>LIVERPOOL OXXO</td>\n",
       "      <td>1.162732</td>\n",
       "    </tr>\n",
       "    <tr>\n",
       "      <th>66</th>\n",
       "      <td>66</td>\n",
       "      <td>WAL MART</td>\n",
       "      <td>FARMACIAS SIMILARES</td>\n",
       "      <td>1.154727</td>\n",
       "    </tr>\n",
       "    <tr>\n",
       "      <th>291</th>\n",
       "      <td>291</td>\n",
       "      <td>WAL MART</td>\n",
       "      <td>OXXO TIENDAS 3B</td>\n",
       "      <td>1.150434</td>\n",
       "    </tr>\n",
       "    <tr>\n",
       "      <th>213</th>\n",
       "      <td>213</td>\n",
       "      <td>WAL MART</td>\n",
       "      <td>FARMACIA DEL AHORRO FARMACIAS GUADALAJARA</td>\n",
       "      <td>1.144989</td>\n",
       "    </tr>\n",
       "    <tr>\n",
       "      <th>219</th>\n",
       "      <td>219</td>\n",
       "      <td>WAL MART</td>\n",
       "      <td>OXXO FARMACIA DEL AHORRO</td>\n",
       "      <td>1.142490</td>\n",
       "    </tr>\n",
       "    <tr>\n",
       "      <th>207</th>\n",
       "      <td>207</td>\n",
       "      <td>WAL MART</td>\n",
       "      <td>OXXO COSTCO</td>\n",
       "      <td>1.139958</td>\n",
       "    </tr>\n",
       "    <tr>\n",
       "      <th>316</th>\n",
       "      <td>316</td>\n",
       "      <td>WAL MART</td>\n",
       "      <td>OXXO CLIP FARMACIAS GUADALAJARA</td>\n",
       "      <td>1.136858</td>\n",
       "    </tr>\n",
       "    <tr>\n",
       "      <th>303</th>\n",
       "      <td>303</td>\n",
       "      <td>WAL MART</td>\n",
       "      <td>OXXO TIENDAS SUPER PRECIO</td>\n",
       "      <td>1.135029</td>\n",
       "    </tr>\n",
       "    <tr>\n",
       "      <th>231</th>\n",
       "      <td>231</td>\n",
       "      <td>WAL MART</td>\n",
       "      <td>LA COMER FARMACIAS GUADALAJARA</td>\n",
       "      <td>1.126716</td>\n",
       "    </tr>\n",
       "    <tr>\n",
       "      <th>297</th>\n",
       "      <td>297</td>\n",
       "      <td>WAL MART</td>\n",
       "      <td>OXXO TIENDAS EXTRA</td>\n",
       "      <td>1.126411</td>\n",
       "    </tr>\n",
       "    <tr>\n",
       "      <th>106</th>\n",
       "      <td>106</td>\n",
       "      <td>WAL MART</td>\n",
       "      <td>TIENDAS ASTURIANO</td>\n",
       "      <td>1.123932</td>\n",
       "    </tr>\n",
       "    <tr>\n",
       "      <th>237</th>\n",
       "      <td>237</td>\n",
       "      <td>WAL MART</td>\n",
       "      <td>MERCADO PAGO FARMACIAS GUADALAJARA</td>\n",
       "      <td>1.122673</td>\n",
       "    </tr>\n",
       "    <tr>\n",
       "      <th>171</th>\n",
       "      <td>171</td>\n",
       "      <td>WAL MART</td>\n",
       "      <td>CLIP FARMACIAS GUADALAJARA</td>\n",
       "      <td>1.122096</td>\n",
       "    </tr>\n",
       "    <tr>\n",
       "      <th>330</th>\n",
       "      <td>330</td>\n",
       "      <td>WAL MART</td>\n",
       "      <td>OXXO MERCADO PAGO CLIP</td>\n",
       "      <td>1.120439</td>\n",
       "    </tr>\n",
       "    <tr>\n",
       "      <th>74</th>\n",
       "      <td>74</td>\n",
       "      <td>WAL MART</td>\n",
       "      <td>HOME DEPOT</td>\n",
       "      <td>1.118277</td>\n",
       "    </tr>\n",
       "    <tr>\n",
       "      <th>112</th>\n",
       "      <td>112</td>\n",
       "      <td>WAL MART</td>\n",
       "      <td>WALDOS</td>\n",
       "      <td>1.114263</td>\n",
       "    </tr>\n",
       "    <tr>\n",
       "      <th>243</th>\n",
       "      <td>243</td>\n",
       "      <td>WAL MART</td>\n",
       "      <td>OXXO FARMACIAS GUADALAJARA</td>\n",
       "      <td>1.108494</td>\n",
       "    </tr>\n",
       "    <tr>\n",
       "      <th>153</th>\n",
       "      <td>153</td>\n",
       "      <td>WAL MART</td>\n",
       "      <td>CLIP ALSEA</td>\n",
       "      <td>1.107615</td>\n",
       "    </tr>\n",
       "    <tr>\n",
       "      <th>261</th>\n",
       "      <td>261</td>\n",
       "      <td>WAL MART</td>\n",
       "      <td>OXXO LA COMER</td>\n",
       "      <td>1.107526</td>\n",
       "    </tr>\n",
       "    <tr>\n",
       "      <th>159</th>\n",
       "      <td>159</td>\n",
       "      <td>WAL MART</td>\n",
       "      <td>OXXO ALSEA</td>\n",
       "      <td>1.106465</td>\n",
       "    </tr>\n",
       "    <tr>\n",
       "      <th>46</th>\n",
       "      <td>46</td>\n",
       "      <td>WAL MART</td>\n",
       "      <td>FARMACIA DEL AHORRO</td>\n",
       "      <td>1.104637</td>\n",
       "    </tr>\n",
       "    <tr>\n",
       "      <th>118</th>\n",
       "      <td>118</td>\n",
       "      <td>WAL MART</td>\n",
       "      <td>7 ELEVEN ALSEA</td>\n",
       "      <td>1.104615</td>\n",
       "    </tr>\n",
       "    <tr>\n",
       "      <th>273</th>\n",
       "      <td>273</td>\n",
       "      <td>WAL MART</td>\n",
       "      <td>OXXO MERCADO PAGO</td>\n",
       "      <td>1.101088</td>\n",
       "    </tr>\n",
       "    <tr>\n",
       "      <th>130</th>\n",
       "      <td>130</td>\n",
       "      <td>WAL MART</td>\n",
       "      <td>7 ELEVEN CLIP</td>\n",
       "      <td>1.100471</td>\n",
       "    </tr>\n",
       "    <tr>\n",
       "      <th>142</th>\n",
       "      <td>142</td>\n",
       "      <td>WAL MART</td>\n",
       "      <td>7 ELEVEN FARMACIAS GUADALAJARA</td>\n",
       "      <td>1.100106</td>\n",
       "    </tr>\n",
       "    <tr>\n",
       "      <th>195</th>\n",
       "      <td>195</td>\n",
       "      <td>WAL MART</td>\n",
       "      <td>COPPEL OXXO</td>\n",
       "      <td>1.100093</td>\n",
       "    </tr>\n",
       "    <tr>\n",
       "      <th>108</th>\n",
       "      <td>108</td>\n",
       "      <td>WAL MART</td>\n",
       "      <td>TIENDAS EXTRA</td>\n",
       "      <td>1.098719</td>\n",
       "    </tr>\n",
       "    <tr>\n",
       "      <th>50</th>\n",
       "      <td>50</td>\n",
       "      <td>WAL MART</td>\n",
       "      <td>FARMACIA SAN PABLO</td>\n",
       "      <td>1.096939</td>\n",
       "    </tr>\n",
       "    <tr>\n",
       "      <th>189</th>\n",
       "      <td>189</td>\n",
       "      <td>WAL MART</td>\n",
       "      <td>OXXO CLIP</td>\n",
       "      <td>1.090840</td>\n",
       "    </tr>\n",
       "    <tr>\n",
       "      <th>148</th>\n",
       "      <td>148</td>\n",
       "      <td>WAL MART</td>\n",
       "      <td>7 ELEVEN OXXO</td>\n",
       "      <td>1.088474</td>\n",
       "    </tr>\n",
       "    <tr>\n",
       "      <th>70</th>\n",
       "      <td>70</td>\n",
       "      <td>WAL MART</td>\n",
       "      <td>GRUPO ZORRO ABARROTERO</td>\n",
       "      <td>1.085644</td>\n",
       "    </tr>\n",
       "    <tr>\n",
       "      <th>68</th>\n",
       "      <td>68</td>\n",
       "      <td>WAL MART</td>\n",
       "      <td>GRUPO COMERCIAL CONTROL</td>\n",
       "      <td>1.085390</td>\n",
       "    </tr>\n",
       "    <tr>\n",
       "      <th>104</th>\n",
       "      <td>104</td>\n",
       "      <td>WAL MART</td>\n",
       "      <td>TIENDAS 3B</td>\n",
       "      <td>1.077343</td>\n",
       "    </tr>\n",
       "    <tr>\n",
       "      <th>62</th>\n",
       "      <td>62</td>\n",
       "      <td>WAL MART</td>\n",
       "      <td>FARMACIAS GUADALAJARA</td>\n",
       "      <td>1.077249</td>\n",
       "    </tr>\n",
       "    <tr>\n",
       "      <th>103</th>\n",
       "      <td>103</td>\n",
       "      <td>WAL MART</td>\n",
       "      <td>SANBORNS</td>\n",
       "      <td>1.076413</td>\n",
       "    </tr>\n",
       "    <tr>\n",
       "      <th>280</th>\n",
       "      <td>280</td>\n",
       "      <td>WAL MART</td>\n",
       "      <td>OXXO PAYPAL</td>\n",
       "      <td>1.075004</td>\n",
       "    </tr>\n",
       "    <tr>\n",
       "      <th>183</th>\n",
       "      <td>183</td>\n",
       "      <td>WAL MART</td>\n",
       "      <td>MERCADO PAGO CLIP</td>\n",
       "      <td>1.074238</td>\n",
       "    </tr>\n",
       "    <tr>\n",
       "      <th>201</th>\n",
       "      <td>201</td>\n",
       "      <td>WAL MART</td>\n",
       "      <td>LA COMER COSTCO</td>\n",
       "      <td>1.074054</td>\n",
       "    </tr>\n",
       "    <tr>\n",
       "      <th>13</th>\n",
       "      <td>13</td>\n",
       "      <td>WAL MART</td>\n",
       "      <td>7 ELEVEN</td>\n",
       "      <td>1.064843</td>\n",
       "    </tr>\n",
       "    <tr>\n",
       "      <th>110</th>\n",
       "      <td>110</td>\n",
       "      <td>WAL MART</td>\n",
       "      <td>TIENDAS SUPER PRECIO</td>\n",
       "      <td>1.060245</td>\n",
       "    </tr>\n",
       "    <tr>\n",
       "      <th>40</th>\n",
       "      <td>40</td>\n",
       "      <td>WAL MART</td>\n",
       "      <td>COSTCO</td>\n",
       "      <td>1.051994</td>\n",
       "    </tr>\n",
       "    <tr>\n",
       "      <th>100</th>\n",
       "      <td>100</td>\n",
       "      <td>WAL MART</td>\n",
       "      <td>OXXO</td>\n",
       "      <td>1.047014</td>\n",
       "    </tr>\n",
       "    <tr>\n",
       "      <th>52</th>\n",
       "      <td>52</td>\n",
       "      <td>WAL MART</td>\n",
       "      <td>FARMACIAS BENAVIDES</td>\n",
       "      <td>1.044840</td>\n",
       "    </tr>\n",
       "    <tr>\n",
       "      <th>82</th>\n",
       "      <td>82</td>\n",
       "      <td>WAL MART</td>\n",
       "      <td>LIVERPOOL</td>\n",
       "      <td>1.025804</td>\n",
       "    </tr>\n",
       "    <tr>\n",
       "      <th>78</th>\n",
       "      <td>78</td>\n",
       "      <td>WAL MART</td>\n",
       "      <td>LA COMER</td>\n",
       "      <td>1.021842</td>\n",
       "    </tr>\n",
       "    <tr>\n",
       "      <th>255</th>\n",
       "      <td>255</td>\n",
       "      <td>WAL MART</td>\n",
       "      <td>OXXO HEB</td>\n",
       "      <td>1.018574</td>\n",
       "    </tr>\n",
       "    <tr>\n",
       "      <th>285</th>\n",
       "      <td>285</td>\n",
       "      <td>WAL MART</td>\n",
       "      <td>OXXO RAPPI</td>\n",
       "      <td>1.016576</td>\n",
       "    </tr>\n",
       "    <tr>\n",
       "      <th>20</th>\n",
       "      <td>20</td>\n",
       "      <td>WAL MART</td>\n",
       "      <td>BLUE LABEL</td>\n",
       "      <td>1.014473</td>\n",
       "    </tr>\n",
       "  </tbody>\n",
       "</table>\n",
       "</div>"
      ],
      "text/plain": [
       "     index antecedents                                consequents      lift\n",
       "249    249    WAL MART                   OXXO FARMACIAS SIMILARES  1.169750\n",
       "225    225    WAL MART                    OXXO FARMACIA SAN PABLO  1.169459\n",
       "267    267    WAL MART                             LIVERPOOL OXXO  1.162732\n",
       "66      66    WAL MART                        FARMACIAS SIMILARES  1.154727\n",
       "291    291    WAL MART                            OXXO TIENDAS 3B  1.150434\n",
       "213    213    WAL MART  FARMACIA DEL AHORRO FARMACIAS GUADALAJARA  1.144989\n",
       "219    219    WAL MART                   OXXO FARMACIA DEL AHORRO  1.142490\n",
       "207    207    WAL MART                                OXXO COSTCO  1.139958\n",
       "316    316    WAL MART            OXXO CLIP FARMACIAS GUADALAJARA  1.136858\n",
       "303    303    WAL MART                  OXXO TIENDAS SUPER PRECIO  1.135029\n",
       "231    231    WAL MART             LA COMER FARMACIAS GUADALAJARA  1.126716\n",
       "297    297    WAL MART                         OXXO TIENDAS EXTRA  1.126411\n",
       "106    106    WAL MART                          TIENDAS ASTURIANO  1.123932\n",
       "237    237    WAL MART         MERCADO PAGO FARMACIAS GUADALAJARA  1.122673\n",
       "171    171    WAL MART                 CLIP FARMACIAS GUADALAJARA  1.122096\n",
       "330    330    WAL MART                     OXXO MERCADO PAGO CLIP  1.120439\n",
       "74      74    WAL MART                                 HOME DEPOT  1.118277\n",
       "112    112    WAL MART                                     WALDOS  1.114263\n",
       "243    243    WAL MART                 OXXO FARMACIAS GUADALAJARA  1.108494\n",
       "153    153    WAL MART                                 CLIP ALSEA  1.107615\n",
       "261    261    WAL MART                              OXXO LA COMER  1.107526\n",
       "159    159    WAL MART                                 OXXO ALSEA  1.106465\n",
       "46      46    WAL MART                        FARMACIA DEL AHORRO  1.104637\n",
       "118    118    WAL MART                             7 ELEVEN ALSEA  1.104615\n",
       "273    273    WAL MART                          OXXO MERCADO PAGO  1.101088\n",
       "130    130    WAL MART                              7 ELEVEN CLIP  1.100471\n",
       "142    142    WAL MART             7 ELEVEN FARMACIAS GUADALAJARA  1.100106\n",
       "195    195    WAL MART                                COPPEL OXXO  1.100093\n",
       "108    108    WAL MART                              TIENDAS EXTRA  1.098719\n",
       "50      50    WAL MART                         FARMACIA SAN PABLO  1.096939\n",
       "189    189    WAL MART                                  OXXO CLIP  1.090840\n",
       "148    148    WAL MART                              7 ELEVEN OXXO  1.088474\n",
       "70      70    WAL MART                     GRUPO ZORRO ABARROTERO  1.085644\n",
       "68      68    WAL MART                    GRUPO COMERCIAL CONTROL  1.085390\n",
       "104    104    WAL MART                                 TIENDAS 3B  1.077343\n",
       "62      62    WAL MART                      FARMACIAS GUADALAJARA  1.077249\n",
       "103    103    WAL MART                                   SANBORNS  1.076413\n",
       "280    280    WAL MART                                OXXO PAYPAL  1.075004\n",
       "183    183    WAL MART                          MERCADO PAGO CLIP  1.074238\n",
       "201    201    WAL MART                            LA COMER COSTCO  1.074054\n",
       "13      13    WAL MART                                   7 ELEVEN  1.064843\n",
       "110    110    WAL MART                       TIENDAS SUPER PRECIO  1.060245\n",
       "40      40    WAL MART                                     COSTCO  1.051994\n",
       "100    100    WAL MART                                       OXXO  1.047014\n",
       "52      52    WAL MART                        FARMACIAS BENAVIDES  1.044840\n",
       "82      82    WAL MART                                  LIVERPOOL  1.025804\n",
       "78      78    WAL MART                                   LA COMER  1.021842\n",
       "255    255    WAL MART                                   OXXO HEB  1.018574\n",
       "285    285    WAL MART                                 OXXO RAPPI  1.016576\n",
       "20      20    WAL MART                                 BLUE LABEL  1.014473"
      ]
     },
     "execution_count": 38,
     "metadata": {},
     "output_type": "execute_result"
    }
   ],
   "source": [
    "dataGrafos[dataGrafos['antecedents']=='WAL MART'].sort_values(by='lift', ascending=False)"
   ]
  },
  {
   "cell_type": "markdown",
   "id": "571ee655-e370-4cad-ac3b-7f6c45e0d200",
   "metadata": {
    "tags": []
   },
   "source": [
    "##### Generamos grafos "
   ]
  },
  {
   "cell_type": "code",
   "execution_count": null,
   "id": "3cfaab33-d1ee-4c7b-b9eb-4323b9f90010",
   "metadata": {
    "tags": []
   },
   "outputs": [],
   "source": [
    "G = nx.DiGraph()"
   ]
  },
  {
   "cell_type": "code",
   "execution_count": null,
   "id": "43c5ec88-9b53-447b-986b-d5ebb6fc8cad",
   "metadata": {
    "tags": []
   },
   "outputs": [],
   "source": [
    "for row in dataGrafos.iterrows():\n",
    "    G.add_edge(row[1]['antecedents'],\n",
    "                  row[1]['consequents'])"
   ]
  },
  {
   "cell_type": "code",
   "execution_count": null,
   "id": "b26dd6f1-0186-4305-98f5-19eb4c780a1b",
   "metadata": {
    "tags": []
   },
   "outputs": [],
   "source": [
    "nx.draw_circular(G, node_color='lightblue',\n",
    "                edge_color='gray',\n",
    "                 font_size=10,\n",
    "                with_labels=True, width=3)\n",
    "plt.savefig(\"imagen.png\")\n",
    "plt.show()\n"
   ]
  },
  {
   "cell_type": "markdown",
   "id": "85654cd0-58f4-4366-8789-e26adb38c794",
   "metadata": {},
   "source": [
    "#### agregamos los sub grupos para el caso de Wal mart"
   ]
  },
  {
   "cell_type": "markdown",
   "id": "ad6efa1d-8ad3-418e-87f7-1f06445fe984",
   "metadata": {},
   "source": [
    "##### Quitamos tiendas en expecifico en caso de ser necesario "
   ]
  },
  {
   "cell_type": "code",
   "execution_count": null,
   "id": "6b09513e-39e7-4b75-8cc1-f1910cb0c885",
   "metadata": {
    "tags": []
   },
   "outputs": [],
   "source": [
    "#dataWalmart=  data[(data['GRUPO']!='SORIANA') & (data['GRUPO']!='CHEDRAUI')]"
   ]
  },
  {
   "cell_type": "code",
   "execution_count": null,
   "id": "8efca7fb-d680-4e91-96e3-602be166058a",
   "metadata": {
    "tags": []
   },
   "outputs": [],
   "source": [
    "dataGrafosCadena=dataGrafos"
   ]
  },
  {
   "cell_type": "code",
   "execution_count": null,
   "id": "47a59e57-fac5-4f51-965b-8ed840318044",
   "metadata": {},
   "outputs": [],
   "source": [
    "dataGrafosCadena"
   ]
  },
  {
   "cell_type": "markdown",
   "id": "5adb0f55-0d14-47c7-98e4-c6cb6bb7bfa9",
   "metadata": {},
   "source": [
    "#### Asignamos las variables a analisar base= tiendas Antecedentes\n",
    "#### comercios = Tiendas consecuentes"
   ]
  },
  {
   "cell_type": "code",
   "execution_count": null,
   "id": "0497e283-57b2-4660-8bf9-8c25f46450f2",
   "metadata": {},
   "outputs": [],
   "source": [
    "#comercios base\n",
    "base='WAL MART'\n",
    "base1=''\n",
    "base2=''\n",
    "base3=''\n",
    "base4=''"
   ]
  },
  {
   "cell_type": "code",
   "execution_count": null,
   "id": "6c92a04e-026e-45f6-9638-bd1d95755c87",
   "metadata": {},
   "outputs": [],
   "source": [
    "# COMERCIOS COINCIDENCIA\n",
    "comercio1='RAPPI'\n",
    "comercio2='TIENDAS 3B'\n",
    "comercio3=''\n",
    "comercio4=''\n",
    "comercio5=''"
   ]
  },
  {
   "cell_type": "code",
   "execution_count": null,
   "id": "d1b54f35-a9b0-4da1-849f-1cffa19b8c79",
   "metadata": {},
   "outputs": [],
   "source": [
    "id_tarjeta='ID_TARJETA'"
   ]
  },
  {
   "cell_type": "code",
   "execution_count": null,
   "id": "4f96561d-d2eb-4ae5-a2d3-d66f46b1d9d0",
   "metadata": {},
   "outputs": [],
   "source": [
    "#generamos las listas de las variables base y comercios \n",
    "lista1=[base]\n",
    "lista2=[comercio1,comercio2,comercio3,comercio4]"
   ]
  },
  {
   "cell_type": "markdown",
   "id": "8efad104-0445-40d0-8bb7-61b4def2c415",
   "metadata": {},
   "source": [
    "##### Recorremos la tabla de Grafos ya con limites de lift para generar la tabla con la que se trabajara, es decir tabla pivote para todos los calculos y referencias "
   ]
  },
  {
   "cell_type": "code",
   "execution_count": null,
   "id": "395d29a8-7bd8-4853-bf52-6e9c1c3ff7dc",
   "metadata": {
    "tags": []
   },
   "outputs": [],
   "source": [
    "largoA=len(dataGrafosCadena)-len(dataGrafosCadena)\n",
    "largoB=len(dataGrafosCadena)-len(dataGrafosCadena) +1\n",
    "while largoA<=len(dataGrafosCadena):\n",
    "    for i in dataGrafosCadena.iloc[largoA:largoB,:].index:\n",
    "        for i in lista1:\n",
    "            for j in lista2:\n",
    "                dataGrafosCadena.loc[(dataGrafosCadena['antecedents']==i) &(dataGrafosCadena['consequents']==j),'flag']=1\n",
    "    largoA+=1\n",
    "    largoB+=1"
   ]
  },
  {
   "cell_type": "code",
   "execution_count": null,
   "id": "e40330d8-fdd5-4a77-b92a-f85c718bdf0d",
   "metadata": {
    "tags": []
   },
   "outputs": [],
   "source": [
    "dataL=dataGrafosCadena[dataGrafosCadena['flag']>=1]\n"
   ]
  },
  {
   "cell_type": "code",
   "execution_count": null,
   "id": "4a893de1-e7d3-4b34-9e79-779d695220a6",
   "metadata": {},
   "outputs": [],
   "source": [
    "dataL"
   ]
  },
  {
   "cell_type": "code",
   "execution_count": null,
   "id": "a4784412-f007-4abe-8d44-8d46663a6d6a",
   "metadata": {
    "tags": []
   },
   "outputs": [],
   "source": [
    "dataLimpia=dataL[['antecedents','consequents','lift']]"
   ]
  },
  {
   "cell_type": "code",
   "execution_count": null,
   "id": "9db21122-1dcf-4ee6-9ae0-1ea390a378df",
   "metadata": {
    "tags": []
   },
   "outputs": [],
   "source": [
    "\n",
    "dataLimpia=dataLimpia[['antecedents','consequents','lift']]"
   ]
  },
  {
   "cell_type": "code",
   "execution_count": null,
   "id": "815f3ab6-5470-4869-b4cb-cbae3fbc3a8f",
   "metadata": {},
   "outputs": [],
   "source": [
    "dataLimpia"
   ]
  },
  {
   "cell_type": "code",
   "execution_count": null,
   "id": "fdc51fb9-f5b2-4511-b35b-9edba854cb65",
   "metadata": {},
   "outputs": [],
   "source": [
    "G = nx.DiGraph()\n",
    "for row in dataLimpia.iterrows():\n",
    "    G.add_edge(row[1]['antecedents'],\n",
    "                  row[1]['consequents'])"
   ]
  },
  {
   "cell_type": "code",
   "execution_count": null,
   "id": "f243056c-1968-422f-b2fc-595159b2293b",
   "metadata": {},
   "outputs": [],
   "source": [
    "nx.draw_circular(G, node_color='lightblue',\n",
    "                edge_color='gray',\n",
    "                 font_size=9,\n",
    "                with_labels=True, width=2)\n",
    "plt.show()"
   ]
  },
  {
   "cell_type": "code",
   "execution_count": null,
   "id": "cde107fb-44ce-494a-9f38-c5dfe7b4f3cf",
   "metadata": {},
   "outputs": [],
   "source": [
    "tabla_monto=pd.pivot_table(data,values='MONTO', columns='GRUPO',index=['ID_TARJETA','APP'] )"
   ]
  },
  {
   "cell_type": "code",
   "execution_count": null,
   "id": "6e2bfc0a-c593-49e1-95d4-a6fbe6154b17",
   "metadata": {},
   "outputs": [],
   "source": [
    "transacciones=pd.pivot_table(data,values='MONTO', columns='GRUPO',index=['ID_TARJETA','APP'] ).reset_index()"
   ]
  },
  {
   "cell_type": "markdown",
   "id": "729bc463-7e92-43bc-a688-41c72225dce4",
   "metadata": {},
   "source": [
    "#### Recorremos la tabla pivote para obtener las combinbaciones en base a la tabla referencia llamada dataLimpia "
   ]
  },
  {
   "cell_type": "code",
   "execution_count": null,
   "id": "8585ead5-ea03-413e-b79b-54ec881608d7",
   "metadata": {},
   "outputs": [],
   "source": [
    "pos=len(dataLimpia)-len(dataLimpia)\n",
    "pos1=len(dataLimpia)-len(dataLimpia) +1\n",
    "while pos<=len(dataLimpia):\n",
    "    for i in dataLimpia.iloc[pos:pos1,:].index:\n",
    "        for colum in tabla_monto.loc[:,[dataLimpia['antecedents'][i],dataLimpia['consequents'][i]]].columns: \n",
    "            tabla_monto.loc[(tabla_monto[dataLimpia['antecedents'][i]]>=1) & (tabla_monto[dataLimpia['consequents'][i]]>=1),'combinacion' + str(pos)]=dataLimpia['antecedents'][i] + '-' +dataLimpia['consequents'][i]\n",
    "    pos+=1\n",
    "    pos1+=1\n",
    "    "
   ]
  },
  {
   "cell_type": "code",
   "execution_count": null,
   "id": "114dbe87-e724-4a4a-b87c-587f8cdfc3a8",
   "metadata": {},
   "outputs": [],
   "source": []
  },
  {
   "cell_type": "code",
   "execution_count": null,
   "id": "38414263-df91-4852-b9ed-3d923a2470fc",
   "metadata": {},
   "outputs": [],
   "source": [
    "tabla_monto=tabla_monto.reset_index()"
   ]
  },
  {
   "cell_type": "code",
   "execution_count": null,
   "id": "5381301b-f724-4b77-8a71-e62d59b2ef32",
   "metadata": {},
   "outputs": [],
   "source": [
    "tabla_monto"
   ]
  },
  {
   "cell_type": "markdown",
   "id": "a4474b6d-8105-4752-ae6c-c6e828da2a5a",
   "metadata": {},
   "source": [
    "#### Generamos variable dummy para calcular registros con APP"
   ]
  },
  {
   "cell_type": "code",
   "execution_count": null,
   "id": "b550363c-0ed1-4e6b-b779-25adbf738562",
   "metadata": {},
   "outputs": [],
   "source": [
    "dummy = pd.get_dummies(tabla_monto['APP'])\n",
    "dummy = dummy.replace({0: None})\n",
    "tabla_monto_fin = pd.concat([tabla_monto,dummy],axis=1)"
   ]
  },
  {
   "cell_type": "code",
   "execution_count": null,
   "id": "8fb2de18-fce5-4bbe-9701-a89d401740c5",
   "metadata": {},
   "outputs": [],
   "source": [
    "'''\n",
    "pos=len(dataLimpia)-len(dataLimpia)\n",
    "pos1=len(dataLimpia)-len(dataLimpia) +1\n",
    "comb=0\n",
    "while pos<=len(dataLimpia):\n",
    "    for i in dataLimpia.iloc[pos:pos1,:].index:\n",
    "        for colum in tabla_monto_fin.loc[:,[dataLimpia['antecedents'][i],dataLimpia['consequents'][i]]].columns: \n",
    "            tabla_monto_fin.loc[(tabla_monto_fin[dataLimpia['antecedents'][i]]>=1) & (tabla_monto_fin[dataLimpia['consequents'][i]]>=1),'segmento' + str(pos)]=1\n",
    "            tabla_monto_fin['segmento' + str(pos)]=tabla_monto_fin['segmento' + str(pos)].fillna(0)\n",
    "            tabla_monto_fin['segmento' + str(pos)]=tabla_monto_fin['segmento' + str(pos)].astype(int)\n",
    "            \n",
    "\n",
    "    pos+=1\n",
    "    pos1+=1\n",
    "    comb+=1\n",
    "'''    "
   ]
  },
  {
   "cell_type": "markdown",
   "id": "580f5620-2f09-4a29-b4aa-1f23b4d35b8e",
   "metadata": {},
   "source": [
    "##### Generamos las agrupaciones por cada combinacion para obtener los totales "
   ]
  },
  {
   "cell_type": "code",
   "execution_count": null,
   "id": "d9a7974d-8d76-4bcb-97c7-94ac189ac220",
   "metadata": {},
   "outputs": [],
   "source": [
    "pos=len(dataLimpia)-len(dataLimpia)\n",
    "#pos = lasgo de la dfata - largo data para bucle\n",
    "pos1=len(dataLimpia)-len(dataLimpia) +1\n",
    "comb=0\n",
    "\n",
    "while pos<=len(dataLimpia):\n",
    "    for i in dataLimpia.iloc[pos:pos1,:].index:\n",
    "        var=str([\"comb\" + str(comb)])\n",
    "        # locals utilizamos para generar una variable que cambie su nombre una para cada bucle o una para cada combinacion\n",
    "        locals()[\"comb\" + str(comb)] = tabla_monto_fin.groupby(['combinacion'+ str(comb)]).agg({dataLimpia['antecedents'][i]:'sum',dataLimpia['consequents'][i]:'sum',id_tarjeta:'count','Con app':'sum','Sin app':'sum','Con email':'sum'}).reset_index()\n",
    "        locals()[\"comb\" + str(comb)] = locals()[\"comb\" + str(comb)].rename(columns={'combinacion'+ str(comb):'combinacion',dataLimpia['antecedents'][i]:'monto_walmart',dataLimpia['consequents'][i]:'monto_otros','ID_TARJETA':'tarjetahabientes'})\n",
    "       \n",
    "       \n",
    "        \n",
    "        \n",
    "    \n",
    "\n",
    "    pos+=1\n",
    "    pos1+=1\n",
    "    comb+=1\n",
    "    \n",
    "    "
   ]
  },
  {
   "cell_type": "code",
   "execution_count": null,
   "id": "d1734df2-2c00-40fe-b321-e786c2fbc26c",
   "metadata": {},
   "outputs": [],
   "source": []
  },
  {
   "cell_type": "markdown",
   "id": "0cd15517-adb1-440a-979e-c83f1b98ae65",
   "metadata": {},
   "source": [
    "#### Segmentamos la Data con los clienetes que Tienen APP "
   ]
  },
  {
   "cell_type": "code",
   "execution_count": null,
   "id": "db9a930c-70f1-4d3b-bf4d-6fd6d597d3a2",
   "metadata": {},
   "outputs": [],
   "source": [
    "con_app=tabla_monto_fin[tabla_monto_fin['APP']=='Con app']"
   ]
  },
  {
   "cell_type": "markdown",
   "id": "cbbb8fbc-d1a5-465a-9c92-ae4ce2a22f2b",
   "metadata": {},
   "source": [
    "##### Se realiza mismo agrupacion pero solo con los clientes con app"
   ]
  },
  {
   "cell_type": "code",
   "execution_count": null,
   "id": "e3a43249-6ce5-420a-a9a2-64e806929d58",
   "metadata": {},
   "outputs": [],
   "source": [
    "\n",
    "pos=len(dataLimpia)-len(dataLimpia)\n",
    "pos1=len(dataLimpia)-len(dataLimpia) +1\n",
    "comb=0\n",
    "\n",
    "while pos<=len(dataLimpia):\n",
    "    for i in dataLimpia.iloc[pos:pos1,:].index:\n",
    "        locals()[\"comb_con\" + str(comb)] = con_app.groupby(['combinacion'+ str(comb)]).agg({dataLimpia['antecedents'][i]:'sum',dataLimpia['consequents'][i]:'sum',id_tarjeta:'count','Con app':'sum','Sin app':'sum','Con email':'sum'}).reset_index()\n",
    "        locals()[\"comb_con\" + str(comb)] = locals()[\"comb_con\" + str(comb)].rename(columns={'combinacion'+ str(comb):'combinacion',dataLimpia['antecedents'][i]:'monto_walmart',dataLimpia['consequents'][i]:'monto_otros','ID_TARJETA':'tarjetahabientes'})\n",
    "        \n",
    "    pos+=1\n",
    "    pos1+=1\n",
    "    comb+=1\n",
    "    "
   ]
  },
  {
   "cell_type": "code",
   "execution_count": null,
   "id": "ac6cc58e-93c6-4da0-a62a-11df1ab49249",
   "metadata": {},
   "outputs": [],
   "source": [
    "comb1"
   ]
  },
  {
   "cell_type": "markdown",
   "id": "273eef89-7a02-496d-8373-d69bfdef6eac",
   "metadata": {},
   "source": [
    "##### Generamos tabla Final asi como el formato"
   ]
  },
  {
   "cell_type": "code",
   "execution_count": null,
   "id": "708361a0-be61-410e-afd9-93f9f34f90c0",
   "metadata": {},
   "outputs": [],
   "source": [
    "dataAgrupa = pd.concat([comb0,comb1], axis=0)\n",
    "dataAgrupaApp=pd.concat([comb_con0,comb_con1], axis=0)"
   ]
  },
  {
   "cell_type": "code",
   "execution_count": null,
   "id": "3969d390-257f-4071-a628-92982a69c717",
   "metadata": {},
   "outputs": [],
   "source": [
    "dataAgrupa['monto_otros']=dataAgrupa['monto_otros'].round()\n",
    "dataAgrupa['monto_walmart']=dataAgrupa['monto_walmart'].round()\n",
    "\n",
    "dataAgrupaApp['monto_otros']=dataAgrupaApp['monto_otros'].round()\n",
    "dataAgrupaApp['monto_walmart']=dataAgrupaApp['monto_walmart'].round()"
   ]
  },
  {
   "cell_type": "code",
   "execution_count": null,
   "id": "e1a0c356-d6b9-419d-9eec-9209b68575d9",
   "metadata": {},
   "outputs": [],
   "source": [
    "dataAgrupa['monto_otros']=dataAgrupa['monto_otros'].map(lambda x:format(x,','))\n",
    "dataAgrupa['monto_walmart']=dataAgrupa['monto_walmart'].map(lambda x:format(x,','))\n",
    "dataAgrupa['tarjetahabientes']=dataAgrupa['tarjetahabientes'].map(lambda x:format(x,','))\n",
    "dataAgrupa['Con app']=dataAgrupa['Con app'].map(lambda x:format(x,','))\n",
    "dataAgrupa['Sin app']=dataAgrupa['Sin app'].map(lambda x:format(x,','))\n",
    "dataAgrupa['Con email']=dataAgrupa['Con email'].map(lambda x:format(x,','))\n",
    "\n",
    "dataAgrupaApp['monto_otros']=dataAgrupaApp['monto_otros'].map(lambda x:format(x,','))\n",
    "dataAgrupaApp['monto_walmart']=dataAgrupaApp['monto_walmart'].map(lambda x:format(x,','))\n",
    "dataAgrupaApp['tarjetahabientes']=dataAgrupaApp['tarjetahabientes'].map(lambda x:format(x,','))\n",
    "dataAgrupaApp['Con app']=dataAgrupaApp['Con app'].map(lambda x:format(x,','))\n",
    "dataAgrupaApp['Sin app']=dataAgrupaApp['Sin app'].map(lambda x:format(x,','))\n",
    "dataAgrupaApp['Con email']=dataAgrupaApp['Con email'].map(lambda x:format(x,','))"
   ]
  },
  {
   "cell_type": "code",
   "execution_count": null,
   "id": "02d8a1c9-4bb9-4df3-80b2-154c66bed116",
   "metadata": {},
   "outputs": [],
   "source": [
    "dataLimpia['combinacion']= dataLimpia['antecedents'] + '-' +dataLimpia['consequents']"
   ]
  },
  {
   "cell_type": "code",
   "execution_count": null,
   "id": "76eae510-d179-4560-8af7-c250a39b9591",
   "metadata": {},
   "outputs": [],
   "source": [
    "merge=pd.merge(dataLimpia,dataAgrupa, on='combinacion')\n",
    "mergeApp=pd.merge(dataLimpia,dataAgrupaApp, on='combinacion')"
   ]
  },
  {
   "cell_type": "code",
   "execution_count": null,
   "id": "526d8646-9db4-4770-96d7-e05ae99b9bcf",
   "metadata": {},
   "outputs": [],
   "source": [
    "final=merge[['combinacion','lift','monto_walmart','monto_otros','tarjetahabientes','Con app','Sin app','Con email']]\n",
    "finalApp=mergeApp[['combinacion','lift','monto_walmart','monto_otros','tarjetahabientes','Con app']]\n"
   ]
  },
  {
   "cell_type": "code",
   "execution_count": null,
   "id": "caf5d978-34fa-43ed-86d8-f6dc81d99ec3",
   "metadata": {},
   "outputs": [],
   "source": [
    "#dfi.export(final , 'final_test.png' )\n"
   ]
  },
  {
   "cell_type": "code",
   "execution_count": null,
   "id": "f6061024-72dc-4739-b469-2eea22a47b14",
   "metadata": {},
   "outputs": [],
   "source": [
    "finalApp"
   ]
  },
  {
   "cell_type": "code",
   "execution_count": null,
   "id": "ff4ba8e6-7a44-48a2-870c-9cf93e3477fb",
   "metadata": {},
   "outputs": [],
   "source": [
    "#a=tabla_monto_fin[['ID_TARJETA','segmento0']]"
   ]
  },
  {
   "cell_type": "code",
   "execution_count": null,
   "id": "54be7f75-a1d2-4962-a944-1b9cd1fabd3b",
   "metadata": {},
   "outputs": [],
   "source": [
    "#data0=data0[data0['ID_TARJETA']!='0']\n",
    "#data0=data0[data0['GRUPO']!='OTRO']"
   ]
  },
  {
   "cell_type": "code",
   "execution_count": null,
   "id": "72ded1b3-d422-43e7-af99-ac8199d3e064",
   "metadata": {},
   "outputs": [],
   "source": [
    "#data1=data0.groupby(['ID_TARJETA','ESTADO','RANGO_DISPERSION','GENERO'])['ANTIGUEDAD_TH_COM','SUELDO_APROX','EDAD'].max().reset_index()"
   ]
  },
  {
   "cell_type": "code",
   "execution_count": null,
   "id": "e4165ab9-5496-45ff-a343-10623da57a4c",
   "metadata": {},
   "outputs": [],
   "source": [
    "#test=pd.merge(data1,transacciones, on='ID_TARJETA', how='inner')"
   ]
  },
  {
   "cell_type": "code",
   "execution_count": null,
   "id": "2d7b98d3-5d4c-4f44-9b66-e2882b096912",
   "metadata": {},
   "outputs": [],
   "source": [
    "#test1=pd.merge(test,a, on='ID_TARJETA', how='inner')"
   ]
  },
  {
   "cell_type": "code",
   "execution_count": null,
   "id": "281540cb-9348-4afb-a20e-30d59d65d43c",
   "metadata": {},
   "outputs": [],
   "source": [
    "#test1.info(verbose=True,null_counts=True)"
   ]
  },
  {
   "cell_type": "code",
   "execution_count": null,
   "id": "2dc42ad4-16bc-4575-a745-459abdcba22a",
   "metadata": {},
   "outputs": [],
   "source": [
    "comercio2"
   ]
  },
  {
   "cell_type": "code",
   "execution_count": null,
   "id": "7a71c238-17ea-495f-aad3-0068087bf3ca",
   "metadata": {},
   "outputs": [],
   "source": [
    "tabla_monto.loc[tabla_monto[comercio1].notnull(),'segmento0']=1\n",
    "tabla_monto.loc[tabla_monto[comercio1].isnull(),'segmento0']=0\n",
    "\n",
    "tabla_monto.loc[tabla_monto[comercio2].notnull(),'segmento1']=1\n",
    "tabla_monto.loc[tabla_monto[comercio2].isnull(),'segmento1']=0\n"
   ]
  },
  {
   "cell_type": "code",
   "execution_count": null,
   "id": "995502e5-229a-4464-9047-021407bc391e",
   "metadata": {},
   "outputs": [],
   "source": [
    "a=tabla_monto[['ID_TARJETA','segmento0','segmento1']]"
   ]
  },
  {
   "cell_type": "code",
   "execution_count": null,
   "id": "66787674-895b-4646-bd94-8907ce6abe22",
   "metadata": {},
   "outputs": [],
   "source": [
    "data0=data0[data0['ID_TARJETA']!='0']\n",
    "data0=data0[data0['GRUPO']!='OTRO']\n",
    "#data0=data0[data0['GRUPO']!='WAL MART']"
   ]
  },
  {
   "cell_type": "code",
   "execution_count": null,
   "id": "259432d2-2cd7-4f09-8626-08a8b76317d0",
   "metadata": {},
   "outputs": [],
   "source": [
    "data1=data0.groupby(['ID_TARJETA','EMAIL','ESTADO','RANGO_DISPERSION','GENERO'])['ANTIGUEDAD_TH_COM','SUELDO_APROX','EDAD'].max().reset_index()"
   ]
  },
  {
   "cell_type": "code",
   "execution_count": null,
   "id": "228c6cc3-7970-488c-b78a-8af942c63f4f",
   "metadata": {},
   "outputs": [],
   "source": [
    "test=pd.merge(data1,transacciones, on='ID_TARJETA', how='inner')"
   ]
  },
  {
   "cell_type": "code",
   "execution_count": null,
   "id": "b205c2da-d0c2-45fe-9504-c6895162acdc",
   "metadata": {},
   "outputs": [],
   "source": [
    "test1=pd.merge(test,a, on='ID_TARJETA', how='inner')"
   ]
  },
  {
   "cell_type": "code",
   "execution_count": null,
   "id": "7ef07e81-1e8c-43ce-977b-48c144cf545d",
   "metadata": {},
   "outputs": [],
   "source": [
    "test1.info(verbose=True,null_counts=True)"
   ]
  },
  {
   "cell_type": "code",
   "execution_count": null,
   "id": "3f8fab4b-848e-49d0-ab4c-342816ade49e",
   "metadata": {},
   "outputs": [],
   "source": [
    "\n",
    "test1.to_csv('data/output/demograficos.csv',sep='|', index = False)"
   ]
  },
  {
   "cell_type": "code",
   "execution_count": null,
   "id": "025c7050-f89d-4d8a-874a-9023939b826f",
   "metadata": {},
   "outputs": [],
   "source": []
  }
 ],
 "metadata": {
  "kernelspec": {
   "display_name": "Python 3 (ipykernel)",
   "language": "python",
   "name": "python3"
  },
  "language_info": {
   "codemirror_mode": {
    "name": "ipython",
    "version": 3
   },
   "file_extension": ".py",
   "mimetype": "text/x-python",
   "name": "python",
   "nbconvert_exporter": "python",
   "pygments_lexer": "ipython3",
   "version": "3.9.18"
  }
 },
 "nbformat": 4,
 "nbformat_minor": 5
}
