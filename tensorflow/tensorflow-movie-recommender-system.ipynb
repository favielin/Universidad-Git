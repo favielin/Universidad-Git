{
 "cells": [
  {
   "cell_type": "markdown",
   "metadata": {
    "papermill": {
     "duration": 0.017833,
     "end_time": "2022-08-08T09:10:20.410172",
     "exception": false,
     "start_time": "2022-08-08T09:10:20.392339",
     "status": "completed"
    },
    "tags": []
   },
   "source": [
    "<h1 style=\"font-family: Trebuchet MS; padding: 12px; font-size: 30px; color: #081c15; text-align: center; line-height: 1.25;\">Recommender System<br><span style=\"color: #1b4332; font-size: 48px\"><b>🎥Movies Recommendation📹</b></span><br><span style=\"color: #52b788; font-size: 20px\">📀Using Deep Learning</span></h1>\n",
    "<hr>"
   ]
  },
  {
   "cell_type": "code",
   "execution_count": null,
   "metadata": {
    "_kg_hide-input": true,
    "_kg_hide-output": true,
    "papermill": {
     "duration": 92.090907,
     "end_time": "2022-08-08T09:11:52.708649",
     "exception": false,
     "start_time": "2022-08-08T09:10:20.617742",
     "status": "completed"
    },
    "tags": []
   },
   "outputs": [],
   "source": [
    "pip install -q tensorflow-recommenders"
   ]
  },
  {
   "cell_type": "markdown",
   "metadata": {},
   "source": [
    "# Imports"
   ]
  },
  {
   "cell_type": "code",
   "execution_count": null,
   "metadata": {
    "_kg_hide-input": true,
    "_kg_hide-output": true,
    "papermill": {
     "duration": 4.977321,
     "end_time": "2022-08-08T09:11:57.701696",
     "exception": false,
     "start_time": "2022-08-08T09:11:52.724375",
     "status": "completed"
    },
    "tags": []
   },
   "outputs": [],
   "source": [
    "import string\n",
    "import re\n",
    "import pandas as pd\n",
    "import numpy as np\n",
    "import seaborn as sns\n",
    "import matplotlib.pyplot as plt\n",
    "import tensorflow as tf\n",
    "import tensorflow_recommenders as tfrs\n",
    "from collections import Counter\n",
    "from typing import Dict, Text\n",
    "from ast import literal_eval\n",
    "from datetime import datetime\n",
    "from wordcloud import WordCloud\n",
    "from sklearn.preprocessing import MinMaxScaler\n",
    "from sklearn.feature_extraction.text import TfidfVectorizer\n",
    "from sklearn.metrics.pairwise import cosine_similarity\n",
    "\n",
    "import warnings\n",
    "warnings.filterwarnings('ignore')"
   ]
  },
  {
   "cell_type": "markdown",
   "metadata": {},
   "source": [
    "# Code"
   ]
  },
  {
   "cell_type": "code",
   "execution_count": null,
   "metadata": {
    "_kg_hide-input": true,
    "_kg_hide-output": false,
    "papermill": {
     "duration": 5.890113,
     "end_time": "2022-08-08T09:12:03.608246",
     "exception": false,
     "start_time": "2022-08-08T09:11:57.718133",
     "status": "completed"
    },
    "tags": []
   },
   "outputs": [],
   "source": [
    "credits = pd.read_csv('credits.csv')\n",
    "keywords = pd.read_csv('keywords.csv')\n",
    "movies = pd.read_csv('movies_metadata.csv').\\\n",
    "                     drop(['belongs_to_collection', 'homepage', 'imdb_id', 'poster_path', 'status', 'title', 'video'], axis=1).\\\n",
    "                     drop([19730, 29503, 35587]) # Incorrect data type\n",
    "\n",
    "movies['id'] = movies['id'].astype('int64')\n",
    "\n",
    "df = movies.merge(keywords, on='id').\\\n",
    "    merge(credits, on='id')\n",
    "\n",
    "df['original_language'] = df['original_language'].fillna('')\n",
    "df['runtime'] = df['runtime'].fillna(0)\n",
    "df['tagline'] = df['tagline'].fillna('')\n",
    "\n",
    "df.dropna(inplace=True)"
   ]
  },
  {
   "cell_type": "code",
   "execution_count": null,
   "metadata": {
    "papermill": {
     "duration": 0.054458,
     "end_time": "2022-08-08T09:13:04.261672",
     "exception": false,
     "start_time": "2022-08-08T09:13:04.207214",
     "status": "completed"
    },
    "tags": []
   },
   "outputs": [],
   "source": [
    "df.head()"
   ]
  },
  {
   "cell_type": "code",
   "execution_count": null,
   "metadata": {
    "_kg_hide-input": true,
    "_kg_hide-output": true,
    "papermill": {
     "duration": 0.09014,
     "end_time": "2022-08-08T09:13:04.368549",
     "exception": false,
     "start_time": "2022-08-08T09:13:04.278409",
     "status": "completed"
    },
    "tags": []
   },
   "outputs": [],
   "source": [
    "df.info()"
   ]
  },
  {
   "cell_type": "code",
   "execution_count": null,
   "metadata": {
    "_kg_hide-input": true,
    "_kg_hide-output": false,
    "papermill": {
     "duration": 0.088597,
     "end_time": "2022-08-08T09:13:04.473926",
     "exception": false,
     "start_time": "2022-08-08T09:13:04.385329",
     "status": "completed"
    },
    "tags": []
   },
   "outputs": [],
   "source": [
    "df['release_date'] = pd.to_datetime(df['release_date'])\n",
    "df['budget'] = df['budget'].astype('float64')\n",
    "df['popularity'] = df['popularity'].astype('float64')"
   ]
  },
  {
   "cell_type": "markdown",
   "metadata": {
    "papermill": {
     "duration": 0.043553,
     "end_time": "2022-08-08T09:13:34.242908",
     "exception": false,
     "start_time": "2022-08-08T09:13:34.199355",
     "status": "completed"
    },
    "tags": []
   },
   "source": [
    "<a id=2 a/>\n",
    "<p style=\"background-color:#368f8b;font-family:Trebuchet MS;font-weight:bold;color:#eff7f6;font-size:40px;text-align:center;border-radius:100px 100px\">Recommender System</p>"
   ]
  },
  {
   "cell_type": "markdown",
   "metadata": {
    "papermill": {
     "duration": 0.044313,
     "end_time": "2022-08-08T09:13:57.074562",
     "exception": false,
     "start_time": "2022-08-08T09:13:57.030249",
     "status": "completed"
    },
    "tags": []
   },
   "source": [
    "<a id=4 a/>\n",
    "<h1 style=\"font-family: Trebuchet MS; font-size: 25px; color: #3a5a40; text-align: left; \"><b>Using Deep Learning</b></h1>\n",
    "\n",
    "Official documentation: https://www.tensorflow.org/recommenders\n",
    "\n",
    "Tensorflow comes with a library called TensorFlow Recommenders (TFRS) for building a recommender system. It's built on Keras and aims to have a gentle learning curve while still giving you the flexibility to build complex models."
   ]
  },
  {
   "cell_type": "code",
   "execution_count": 15,
   "metadata": {
    "papermill": {
     "duration": 0.254468,
     "end_time": "2022-08-08T09:13:57.373234",
     "exception": false,
     "start_time": "2022-08-08T09:13:57.118766",
     "status": "completed"
    },
    "tags": []
   },
   "outputs": [
    {
     "data": {
      "text/html": [
       "<div>\n",
       "<style scoped>\n",
       "    .dataframe tbody tr th:only-of-type {\n",
       "        vertical-align: middle;\n",
       "    }\n",
       "\n",
       "    .dataframe tbody tr th {\n",
       "        vertical-align: top;\n",
       "    }\n",
       "\n",
       "    .dataframe thead th {\n",
       "        text-align: right;\n",
       "    }\n",
       "</style>\n",
       "<table border=\"1\" class=\"dataframe\">\n",
       "  <thead>\n",
       "    <tr style=\"text-align: right;\">\n",
       "      <th></th>\n",
       "      <th>userId</th>\n",
       "      <th>movieId</th>\n",
       "      <th>rating</th>\n",
       "      <th>date</th>\n",
       "      <th>original_title</th>\n",
       "      <th>genres</th>\n",
       "      <th>overview</th>\n",
       "    </tr>\n",
       "  </thead>\n",
       "  <tbody>\n",
       "    <tr>\n",
       "      <th>0</th>\n",
       "      <td>1</td>\n",
       "      <td>1371</td>\n",
       "      <td>2.5</td>\n",
       "      <td>2009-12-13 20:52:15</td>\n",
       "      <td>Rocky III</td>\n",
       "      <td>[{'id': 18, 'name': 'Drama'}]</td>\n",
       "      <td>Now the world champion, Rocky Balboa is living...</td>\n",
       "    </tr>\n",
       "    <tr>\n",
       "      <th>1</th>\n",
       "      <td>1</td>\n",
       "      <td>1405</td>\n",
       "      <td>1.0</td>\n",
       "      <td>2009-12-13 20:53:23</td>\n",
       "      <td>Greed</td>\n",
       "      <td>[{'id': 18, 'name': 'Drama'}, {'id': 36, 'name...</td>\n",
       "      <td>Greed is the classic 1924 silent film by Erich...</td>\n",
       "    </tr>\n",
       "    <tr>\n",
       "      <th>2</th>\n",
       "      <td>1</td>\n",
       "      <td>2105</td>\n",
       "      <td>4.0</td>\n",
       "      <td>2009-12-13 20:52:19</td>\n",
       "      <td>American Pie</td>\n",
       "      <td>[{'id': 35, 'name': 'Comedy'}, {'id': 10749, '...</td>\n",
       "      <td>At a high-school party, four friends find that...</td>\n",
       "    </tr>\n",
       "    <tr>\n",
       "      <th>3</th>\n",
       "      <td>1</td>\n",
       "      <td>2193</td>\n",
       "      <td>2.0</td>\n",
       "      <td>2009-12-13 20:53:18</td>\n",
       "      <td>My Tutor</td>\n",
       "      <td>[{'id': 35, 'name': 'Comedy'}, {'id': 18, 'nam...</td>\n",
       "      <td>High school senior Bobby Chrystal fails his Fr...</td>\n",
       "    </tr>\n",
       "    <tr>\n",
       "      <th>4</th>\n",
       "      <td>1</td>\n",
       "      <td>2294</td>\n",
       "      <td>2.0</td>\n",
       "      <td>2009-12-13 20:51:48</td>\n",
       "      <td>Jay and Silent Bob Strike Back</td>\n",
       "      <td>[{'id': 35, 'name': 'Comedy'}]</td>\n",
       "      <td>When Jay and Silent Bob learn that their comic...</td>\n",
       "    </tr>\n",
       "  </tbody>\n",
       "</table>\n",
       "</div>"
      ],
      "text/plain": [
       "   userId  movieId  rating                date  \\\n",
       "0       1     1371     2.5 2009-12-13 20:52:15   \n",
       "1       1     1405     1.0 2009-12-13 20:53:23   \n",
       "2       1     2105     4.0 2009-12-13 20:52:19   \n",
       "3       1     2193     2.0 2009-12-13 20:53:18   \n",
       "4       1     2294     2.0 2009-12-13 20:51:48   \n",
       "\n",
       "                   original_title  \\\n",
       "0                       Rocky III   \n",
       "1                           Greed   \n",
       "2                    American Pie   \n",
       "3                        My Tutor   \n",
       "4  Jay and Silent Bob Strike Back   \n",
       "\n",
       "                                              genres  \\\n",
       "0                      [{'id': 18, 'name': 'Drama'}]   \n",
       "1  [{'id': 18, 'name': 'Drama'}, {'id': 36, 'name...   \n",
       "2  [{'id': 35, 'name': 'Comedy'}, {'id': 10749, '...   \n",
       "3  [{'id': 35, 'name': 'Comedy'}, {'id': 18, 'nam...   \n",
       "4                     [{'id': 35, 'name': 'Comedy'}]   \n",
       "\n",
       "                                            overview  \n",
       "0  Now the world champion, Rocky Balboa is living...  \n",
       "1  Greed is the classic 1924 silent film by Erich...  \n",
       "2  At a high-school party, four friends find that...  \n",
       "3  High school senior Bobby Chrystal fails his Fr...  \n",
       "4  When Jay and Silent Bob learn that their comic...  "
      ]
     },
     "execution_count": 15,
     "metadata": {},
     "output_type": "execute_result"
    }
   ],
   "source": [
    "ratings_df = pd.read_csv('ratings_small.csv')\n",
    "\n",
    "ratings_df['date'] = ratings_df['timestamp'].apply(lambda x: datetime.fromtimestamp(x))\n",
    "ratings_df.drop('timestamp', axis=1, inplace=True)\n",
    "\n",
    "ratings_df = ratings_df.merge(df[['id', 'original_title', 'genres', 'overview']], left_on='movieId',right_on='id', how='left')\n",
    "ratings_df = ratings_df[~ratings_df['id'].isna()]\n",
    "ratings_df.drop('id', axis=1, inplace=True)\n",
    "ratings_df.reset_index(drop=True, inplace=True)\n",
    "\n",
    "ratings_df.head()"
   ]
  },
  {
   "cell_type": "code",
   "execution_count": 16,
   "metadata": {
    "papermill": {
     "duration": 0.065786,
     "end_time": "2022-08-08T09:13:57.491741",
     "exception": false,
     "start_time": "2022-08-08T09:13:57.425955",
     "status": "completed"
    },
    "tags": []
   },
   "outputs": [
    {
     "data": {
      "text/html": [
       "<div>\n",
       "<style scoped>\n",
       "    .dataframe tbody tr th:only-of-type {\n",
       "        vertical-align: middle;\n",
       "    }\n",
       "\n",
       "    .dataframe tbody tr th {\n",
       "        vertical-align: top;\n",
       "    }\n",
       "\n",
       "    .dataframe thead th {\n",
       "        text-align: right;\n",
       "    }\n",
       "</style>\n",
       "<table border=\"1\" class=\"dataframe\">\n",
       "  <thead>\n",
       "    <tr style=\"text-align: right;\">\n",
       "      <th></th>\n",
       "      <th>movieId</th>\n",
       "      <th>original_title</th>\n",
       "    </tr>\n",
       "  </thead>\n",
       "  <tbody>\n",
       "    <tr>\n",
       "      <th>0</th>\n",
       "      <td>862</td>\n",
       "      <td>Toy Story</td>\n",
       "    </tr>\n",
       "    <tr>\n",
       "      <th>1</th>\n",
       "      <td>8844</td>\n",
       "      <td>Jumanji</td>\n",
       "    </tr>\n",
       "    <tr>\n",
       "      <th>2</th>\n",
       "      <td>15602</td>\n",
       "      <td>Grumpier Old Men</td>\n",
       "    </tr>\n",
       "    <tr>\n",
       "      <th>3</th>\n",
       "      <td>31357</td>\n",
       "      <td>Waiting to Exhale</td>\n",
       "    </tr>\n",
       "    <tr>\n",
       "      <th>4</th>\n",
       "      <td>11862</td>\n",
       "      <td>Father of the Bride Part II</td>\n",
       "    </tr>\n",
       "  </tbody>\n",
       "</table>\n",
       "</div>"
      ],
      "text/plain": [
       "   movieId               original_title\n",
       "0      862                    Toy Story\n",
       "1     8844                      Jumanji\n",
       "2    15602             Grumpier Old Men\n",
       "3    31357            Waiting to Exhale\n",
       "4    11862  Father of the Bride Part II"
      ]
     },
     "execution_count": 16,
     "metadata": {},
     "output_type": "execute_result"
    }
   ],
   "source": [
    "movies_df = df[['id', 'original_title']]\n",
    "movies_df.rename(columns={'id':'movieId'}, inplace=True)\n",
    "movies_df.head()"
   ]
  },
  {
   "cell_type": "code",
   "execution_count": 17,
   "metadata": {
    "_kg_hide-output": true,
    "papermill": {
     "duration": 0.202702,
     "end_time": "2022-08-08T09:13:57.740317",
     "exception": false,
     "start_time": "2022-08-08T09:13:57.537615",
     "status": "completed"
    },
    "tags": []
   },
   "outputs": [],
   "source": [
    "ratings_df['userId'] = ratings_df['userId'].astype(str)\n",
    "\n",
    "ratings = tf.data.Dataset.from_tensor_slices(dict(ratings_df[['userId', 'original_title', 'rating']]))\n",
    "movies = tf.data.Dataset.from_tensor_slices(dict(movies_df[['original_title']]))\n",
    "\n",
    "ratings = ratings.map(lambda x: {\n",
    "    \"original_title\": x[\"original_title\"],\n",
    "    \"userId\": x[\"userId\"],\n",
    "    \"rating\": float(x[\"rating\"])\n",
    "})\n",
    "\n",
    "movies = movies.map(lambda x: x[\"original_title\"])"
   ]
  },
  {
   "cell_type": "code",
   "execution_count": 18,
   "metadata": {
    "papermill": {
     "duration": 0.061469,
     "end_time": "2022-08-08T09:13:57.847529",
     "exception": false,
     "start_time": "2022-08-08T09:13:57.78606",
     "status": "completed"
    },
    "tags": []
   },
   "outputs": [
    {
     "name": "stdout",
     "output_type": "stream",
     "text": [
      "Total Data: 44875\n"
     ]
    }
   ],
   "source": [
    "print('Total Data: {}'.format(len(ratings)))\n",
    "\n",
    "tf.random.set_seed(42)\n",
    "shuffled = ratings.shuffle(100_000, seed=42, reshuffle_each_iteration=False)\n",
    "\n",
    "train = ratings.take(35_000)\n",
    "test = ratings.skip(35_000).take(8_188)"
   ]
  },
  {
   "cell_type": "code",
   "execution_count": 19,
   "metadata": {
    "papermill": {
     "duration": 1.023537,
     "end_time": "2022-08-08T09:13:58.917115",
     "exception": false,
     "start_time": "2022-08-08T09:13:57.893578",
     "status": "completed"
    },
    "tags": []
   },
   "outputs": [
    {
     "name": "stdout",
     "output_type": "stream",
     "text": [
      "Unique Movies: 42373\n",
      "Unique users: 671\n"
     ]
    }
   ],
   "source": [
    "movie_titles = movies.batch(1_000)\n",
    "user_ids = ratings.batch(1_000).map(lambda x: x[\"userId\"])\n",
    "\n",
    "unique_movie_titles = np.unique(np.concatenate(list(movie_titles)))\n",
    "unique_user_ids = np.unique(np.concatenate(list(user_ids)))\n",
    "\n",
    "print('Unique Movies: {}'.format(len(unique_movie_titles)))\n",
    "print('Unique users: {}'.format(len(unique_user_ids)))"
   ]
  },
  {
   "cell_type": "code",
   "execution_count": 20,
   "metadata": {
    "papermill": {
     "duration": 0.066511,
     "end_time": "2022-08-08T09:13:59.028589",
     "exception": false,
     "start_time": "2022-08-08T09:13:58.962078",
     "status": "completed"
    },
    "tags": []
   },
   "outputs": [],
   "source": [
    "class MovieModel(tfrs.models.Model):\n",
    "\n",
    "    def __init__(self, rating_weight: float, retrieval_weight: float) -> None:\n",
    "        # We take the loss weights in the constructor: this allows us to instantiate\n",
    "        # several model objects with different loss weights.\n",
    "\n",
    "        super().__init__()\n",
    "\n",
    "        embedding_dimension = 64\n",
    "\n",
    "        # User and movie models.\n",
    "        self.movie_model: tf.keras.layers.Layer = tf.keras.Sequential([\n",
    "          tf.keras.layers.StringLookup(\n",
    "            vocabulary=unique_movie_titles, mask_token=None),\n",
    "          tf.keras.layers.Embedding(len(unique_movie_titles) + 1, embedding_dimension)\n",
    "        ])\n",
    "        self.user_model: tf.keras.layers.Layer = tf.keras.Sequential([\n",
    "          tf.keras.layers.StringLookup(\n",
    "            vocabulary=unique_user_ids, mask_token=None),\n",
    "          tf.keras.layers.Embedding(len(unique_user_ids) + 1, embedding_dimension)\n",
    "        ])\n",
    "\n",
    "        # A small model to take in user and movie embeddings and predict ratings.\n",
    "        # We can make this as complicated as we want as long as we output a scalar\n",
    "        # as our prediction.\n",
    "        self.rating_model = tf.keras.Sequential([\n",
    "            tf.keras.layers.Dense(256, activation=\"relu\"),\n",
    "            tf.keras.layers.Dense(128, activation=\"relu\"),\n",
    "            tf.keras.layers.Dense(64, activation=\"relu\"),\n",
    "            tf.keras.layers.Dense(1),\n",
    "        ])\n",
    "\n",
    "        # The tasks.\n",
    "        self.rating_task: tf.keras.layers.Layer = tfrs.tasks.Ranking(\n",
    "            loss=tf.keras.losses.MeanSquaredError(),\n",
    "            metrics=[tf.keras.metrics.RootMeanSquaredError()],\n",
    "        )\n",
    "        self.retrieval_task: tf.keras.layers.Layer = tfrs.tasks.Retrieval(\n",
    "            metrics=tfrs.metrics.FactorizedTopK(\n",
    "                candidates=movies.batch(128).map(self.movie_model)\n",
    "            )\n",
    "        )\n",
    "\n",
    "        # The loss weights.\n",
    "        self.rating_weight = rating_weight\n",
    "        self.retrieval_weight = retrieval_weight\n",
    "\n",
    "    def call(self, features: Dict[Text, tf.Tensor]) -> tf.Tensor:\n",
    "        # We pick out the user features and pass them into the user model.\n",
    "        user_embeddings = self.user_model(features[\"userId\"])\n",
    "        # And pick out the movie features and pass them into the movie model.\n",
    "        movie_embeddings = self.movie_model(features[\"original_title\"])\n",
    "\n",
    "        return (\n",
    "            user_embeddings,\n",
    "            movie_embeddings,\n",
    "            # We apply the multi-layered rating model to a concatentation of\n",
    "            # user and movie embeddings.\n",
    "            self.rating_model(\n",
    "                tf.concat([user_embeddings, movie_embeddings], axis=1)\n",
    "            ),\n",
    "        )\n",
    "\n",
    "\n",
    "    def compute_loss(self, features: Dict[Text, tf.Tensor], training=False) -> tf.Tensor:\n",
    "        ratings = features.pop(\"rating\")\n",
    "\n",
    "        user_embeddings, movie_embeddings, rating_predictions = self(features)\n",
    "\n",
    "        # We compute the loss for each task.\n",
    "        rating_loss = self.rating_task(\n",
    "            labels=ratings,\n",
    "            predictions=rating_predictions,\n",
    "        )\n",
    "        retrieval_loss = self.retrieval_task(user_embeddings, movie_embeddings)\n",
    "\n",
    "        # And combine them using the loss weights.\n",
    "        return (self.rating_weight * rating_loss + self.retrieval_weight * retrieval_loss)"
   ]
  },
  {
   "cell_type": "code",
   "execution_count": 21,
   "metadata": {
    "papermill": {
     "duration": 240.506827,
     "end_time": "2022-08-08T09:17:59.581321",
     "exception": false,
     "start_time": "2022-08-08T09:13:59.074494",
     "status": "completed"
    },
    "tags": []
   },
   "outputs": [
    {
     "name": "stdout",
     "output_type": "stream",
     "text": [
      "Epoch 1/30\n",
      "35/35 [==============================] - 34s 949ms/step - root_mean_squared_error: 1.8065 - factorized_top_k/top_1_categorical_accuracy: 3.1429e-04 - factorized_top_k/top_5_categorical_accuracy: 0.0062 - factorized_top_k/top_10_categorical_accuracy: 0.0157 - factorized_top_k/top_50_categorical_accuracy: 0.0874 - factorized_top_k/top_100_categorical_accuracy: 0.1525 - loss: 6814.9863 - regularization_loss: 0.0000e+00 - total_loss: 6814.9863\n",
      "Epoch 2/30\n",
      "35/35 [==============================] - 36s 1s/step - root_mean_squared_error: 1.0070 - factorized_top_k/top_1_categorical_accuracy: 0.0011 - factorized_top_k/top_5_categorical_accuracy: 0.0175 - factorized_top_k/top_10_categorical_accuracy: 0.0384 - factorized_top_k/top_50_categorical_accuracy: 0.1795 - factorized_top_k/top_100_categorical_accuracy: 0.2972 - loss: 6449.2752 - regularization_loss: 0.0000e+00 - total_loss: 6449.2752\n",
      "Epoch 3/30\n",
      "35/35 [==============================] - 36s 1s/step - root_mean_squared_error: 0.9846 - factorized_top_k/top_1_categorical_accuracy: 8.8571e-04 - factorized_top_k/top_5_categorical_accuracy: 0.0215 - factorized_top_k/top_10_categorical_accuracy: 0.0507 - factorized_top_k/top_50_categorical_accuracy: 0.2202 - factorized_top_k/top_100_categorical_accuracy: 0.3523 - loss: 6185.1590 - regularization_loss: 0.0000e+00 - total_loss: 6185.1590\n",
      "Epoch 4/30\n",
      "35/35 [==============================] - 34s 977ms/step - root_mean_squared_error: 0.9582 - factorized_top_k/top_1_categorical_accuracy: 5.1429e-04 - factorized_top_k/top_5_categorical_accuracy: 0.0258 - factorized_top_k/top_10_categorical_accuracy: 0.0585 - factorized_top_k/top_50_categorical_accuracy: 0.2543 - factorized_top_k/top_100_categorical_accuracy: 0.4032 - loss: 5980.6139 - regularization_loss: 0.0000e+00 - total_loss: 5980.6139\n",
      "Epoch 5/30\n",
      "35/35 [==============================] - 34s 976ms/step - root_mean_squared_error: 0.9360 - factorized_top_k/top_1_categorical_accuracy: 3.7143e-04 - factorized_top_k/top_5_categorical_accuracy: 0.0265 - factorized_top_k/top_10_categorical_accuracy: 0.0629 - factorized_top_k/top_50_categorical_accuracy: 0.2906 - factorized_top_k/top_100_categorical_accuracy: 0.4380 - loss: 5813.7487 - regularization_loss: 0.0000e+00 - total_loss: 5813.7487\n",
      "Epoch 6/30\n",
      "35/35 [==============================] - 33s 940ms/step - root_mean_squared_error: 0.9381 - factorized_top_k/top_1_categorical_accuracy: 3.7143e-04 - factorized_top_k/top_5_categorical_accuracy: 0.0302 - factorized_top_k/top_10_categorical_accuracy: 0.0743 - factorized_top_k/top_50_categorical_accuracy: 0.3121 - factorized_top_k/top_100_categorical_accuracy: 0.4586 - loss: 5681.7520 - regularization_loss: 0.0000e+00 - total_loss: 5681.7520\n",
      "Epoch 7/30\n",
      "35/35 [==============================] - 33s 950ms/step - root_mean_squared_error: 0.9063 - factorized_top_k/top_1_categorical_accuracy: 4.2857e-04 - factorized_top_k/top_5_categorical_accuracy: 0.0362 - factorized_top_k/top_10_categorical_accuracy: 0.0838 - factorized_top_k/top_50_categorical_accuracy: 0.3273 - factorized_top_k/top_100_categorical_accuracy: 0.4776 - loss: 5580.2931 - regularization_loss: 0.0000e+00 - total_loss: 5580.2931\n",
      "Epoch 8/30\n",
      "35/35 [==============================] - 37s 1s/step - root_mean_squared_error: 0.9034 - factorized_top_k/top_1_categorical_accuracy: 6.0000e-04 - factorized_top_k/top_5_categorical_accuracy: 0.0401 - factorized_top_k/top_10_categorical_accuracy: 0.0895 - factorized_top_k/top_50_categorical_accuracy: 0.3403 - factorized_top_k/top_100_categorical_accuracy: 0.4965 - loss: 5502.6877 - regularization_loss: 0.0000e+00 - total_loss: 5502.6877\n",
      "Epoch 9/30\n",
      "35/35 [==============================] - 38s 1s/step - root_mean_squared_error: 0.8840 - factorized_top_k/top_1_categorical_accuracy: 0.0011 - factorized_top_k/top_5_categorical_accuracy: 0.0422 - factorized_top_k/top_10_categorical_accuracy: 0.0925 - factorized_top_k/top_50_categorical_accuracy: 0.3538 - factorized_top_k/top_100_categorical_accuracy: 0.5163 - loss: 5441.7763 - regularization_loss: 0.0000e+00 - total_loss: 5441.7763\n",
      "Epoch 10/30\n",
      "35/35 [==============================] - 37s 1s/step - root_mean_squared_error: 0.8857 - factorized_top_k/top_1_categorical_accuracy: 0.0019 - factorized_top_k/top_5_categorical_accuracy: 0.0432 - factorized_top_k/top_10_categorical_accuracy: 0.0950 - factorized_top_k/top_50_categorical_accuracy: 0.3656 - factorized_top_k/top_100_categorical_accuracy: 0.5339 - loss: 5392.5790 - regularization_loss: 0.0000e+00 - total_loss: 5392.5790\n",
      "Epoch 11/30\n",
      "35/35 [==============================] - 33s 942ms/step - root_mean_squared_error: 0.8683 - factorized_top_k/top_1_categorical_accuracy: 0.0021 - factorized_top_k/top_5_categorical_accuracy: 0.0441 - factorized_top_k/top_10_categorical_accuracy: 0.0971 - factorized_top_k/top_50_categorical_accuracy: 0.3764 - factorized_top_k/top_100_categorical_accuracy: 0.5486 - loss: 5351.8066 - regularization_loss: 0.0000e+00 - total_loss: 5351.8066\n",
      "Epoch 12/30\n",
      "35/35 [==============================] - 34s 957ms/step - root_mean_squared_error: 0.8652 - factorized_top_k/top_1_categorical_accuracy: 0.0025 - factorized_top_k/top_5_categorical_accuracy: 0.0450 - factorized_top_k/top_10_categorical_accuracy: 0.0985 - factorized_top_k/top_50_categorical_accuracy: 0.3858 - factorized_top_k/top_100_categorical_accuracy: 0.5608 - loss: 5317.4133 - regularization_loss: 0.0000e+00 - total_loss: 5317.4133\n",
      "Epoch 13/30\n",
      "35/35 [==============================] - 33s 938ms/step - root_mean_squared_error: 0.8535 - factorized_top_k/top_1_categorical_accuracy: 0.0023 - factorized_top_k/top_5_categorical_accuracy: 0.0453 - factorized_top_k/top_10_categorical_accuracy: 0.1003 - factorized_top_k/top_50_categorical_accuracy: 0.3942 - factorized_top_k/top_100_categorical_accuracy: 0.5717 - loss: 5287.9256 - regularization_loss: 0.0000e+00 - total_loss: 5287.9256\n",
      "Epoch 14/30\n",
      "35/35 [==============================] - 33s 953ms/step - root_mean_squared_error: 0.8492 - factorized_top_k/top_1_categorical_accuracy: 0.0023 - factorized_top_k/top_5_categorical_accuracy: 0.0461 - factorized_top_k/top_10_categorical_accuracy: 0.1010 - factorized_top_k/top_50_categorical_accuracy: 0.4002 - factorized_top_k/top_100_categorical_accuracy: 0.5806 - loss: 5262.3510 - regularization_loss: 0.0000e+00 - total_loss: 5262.3510\n",
      "Epoch 15/30\n",
      "35/35 [==============================] - 34s 963ms/step - root_mean_squared_error: 0.8395 - factorized_top_k/top_1_categorical_accuracy: 0.0021 - factorized_top_k/top_5_categorical_accuracy: 0.0460 - factorized_top_k/top_10_categorical_accuracy: 0.1021 - factorized_top_k/top_50_categorical_accuracy: 0.4051 - factorized_top_k/top_100_categorical_accuracy: 0.5881 - loss: 5239.9307 - regularization_loss: 0.0000e+00 - total_loss: 5239.9307\n",
      "Epoch 16/30\n",
      "35/35 [==============================] - 33s 946ms/step - root_mean_squared_error: 0.8358 - factorized_top_k/top_1_categorical_accuracy: 0.0022 - factorized_top_k/top_5_categorical_accuracy: 0.0460 - factorized_top_k/top_10_categorical_accuracy: 0.1026 - factorized_top_k/top_50_categorical_accuracy: 0.4099 - factorized_top_k/top_100_categorical_accuracy: 0.5952 - loss: 5220.1168 - regularization_loss: 0.0000e+00 - total_loss: 5220.1168\n",
      "Epoch 17/30\n",
      "35/35 [==============================] - 33s 943ms/step - root_mean_squared_error: 0.8270 - factorized_top_k/top_1_categorical_accuracy: 0.0022 - factorized_top_k/top_5_categorical_accuracy: 0.0464 - factorized_top_k/top_10_categorical_accuracy: 0.1039 - factorized_top_k/top_50_categorical_accuracy: 0.4151 - factorized_top_k/top_100_categorical_accuracy: 0.6010 - loss: 5202.4667 - regularization_loss: 0.0000e+00 - total_loss: 5202.4667\n",
      "Epoch 18/30\n",
      "35/35 [==============================] - 33s 942ms/step - root_mean_squared_error: 0.8233 - factorized_top_k/top_1_categorical_accuracy: 0.0021 - factorized_top_k/top_5_categorical_accuracy: 0.0464 - factorized_top_k/top_10_categorical_accuracy: 0.1043 - factorized_top_k/top_50_categorical_accuracy: 0.4188 - factorized_top_k/top_100_categorical_accuracy: 0.6060 - loss: 5186.6192 - regularization_loss: 0.0000e+00 - total_loss: 5186.6192\n",
      "Epoch 19/30\n",
      "35/35 [==============================] - 33s 941ms/step - root_mean_squared_error: 0.8148 - factorized_top_k/top_1_categorical_accuracy: 0.0019 - factorized_top_k/top_5_categorical_accuracy: 0.0473 - factorized_top_k/top_10_categorical_accuracy: 0.1051 - factorized_top_k/top_50_categorical_accuracy: 0.4219 - factorized_top_k/top_100_categorical_accuracy: 0.6104 - loss: 5172.2658 - regularization_loss: 0.0000e+00 - total_loss: 5172.2658\n",
      "Epoch 20/30\n",
      "35/35 [==============================] - 33s 948ms/step - root_mean_squared_error: 0.8124 - factorized_top_k/top_1_categorical_accuracy: 0.0020 - factorized_top_k/top_5_categorical_accuracy: 0.0476 - factorized_top_k/top_10_categorical_accuracy: 0.1061 - factorized_top_k/top_50_categorical_accuracy: 0.4241 - factorized_top_k/top_100_categorical_accuracy: 0.6143 - loss: 5159.2042 - regularization_loss: 0.0000e+00 - total_loss: 5159.2042\n",
      "Epoch 21/30\n",
      "35/35 [==============================] - 33s 940ms/step - root_mean_squared_error: 0.8008 - factorized_top_k/top_1_categorical_accuracy: 0.0020 - factorized_top_k/top_5_categorical_accuracy: 0.0478 - factorized_top_k/top_10_categorical_accuracy: 0.1065 - factorized_top_k/top_50_categorical_accuracy: 0.4267 - factorized_top_k/top_100_categorical_accuracy: 0.6185 - loss: 5147.2546 - regularization_loss: 0.0000e+00 - total_loss: 5147.2546\n",
      "Epoch 22/30\n",
      "35/35 [==============================] - 33s 945ms/step - root_mean_squared_error: 0.8017 - factorized_top_k/top_1_categorical_accuracy: 0.0020 - factorized_top_k/top_5_categorical_accuracy: 0.0476 - factorized_top_k/top_10_categorical_accuracy: 0.1068 - factorized_top_k/top_50_categorical_accuracy: 0.4294 - factorized_top_k/top_100_categorical_accuracy: 0.6217 - loss: 5136.3091 - regularization_loss: 0.0000e+00 - total_loss: 5136.3091\n",
      "Epoch 23/30\n",
      "35/35 [==============================] - 33s 935ms/step - root_mean_squared_error: 0.7893 - factorized_top_k/top_1_categorical_accuracy: 0.0019 - factorized_top_k/top_5_categorical_accuracy: 0.0479 - factorized_top_k/top_10_categorical_accuracy: 0.1070 - factorized_top_k/top_50_categorical_accuracy: 0.4309 - factorized_top_k/top_100_categorical_accuracy: 0.6241 - loss: 5126.1758 - regularization_loss: 0.0000e+00 - total_loss: 5126.1758\n",
      "Epoch 24/30\n",
      "35/35 [==============================] - 35s 1000ms/step - root_mean_squared_error: 0.7895 - factorized_top_k/top_1_categorical_accuracy: 0.0020 - factorized_top_k/top_5_categorical_accuracy: 0.0479 - factorized_top_k/top_10_categorical_accuracy: 0.1073 - factorized_top_k/top_50_categorical_accuracy: 0.4326 - factorized_top_k/top_100_categorical_accuracy: 0.6264 - loss: 5116.7991 - regularization_loss: 0.0000e+00 - total_loss: 5116.7991\n",
      "Epoch 25/30\n",
      "35/35 [==============================] - 37s 1s/step - root_mean_squared_error: 0.7785 - factorized_top_k/top_1_categorical_accuracy: 0.0018 - factorized_top_k/top_5_categorical_accuracy: 0.0482 - factorized_top_k/top_10_categorical_accuracy: 0.1074 - factorized_top_k/top_50_categorical_accuracy: 0.4342 - factorized_top_k/top_100_categorical_accuracy: 0.6290 - loss: 5108.0688 - regularization_loss: 0.0000e+00 - total_loss: 5108.0688\n",
      "Epoch 26/30\n",
      "35/35 [==============================] - 33s 941ms/step - root_mean_squared_error: 0.7771 - factorized_top_k/top_1_categorical_accuracy: 0.0020 - factorized_top_k/top_5_categorical_accuracy: 0.0482 - factorized_top_k/top_10_categorical_accuracy: 0.1077 - factorized_top_k/top_50_categorical_accuracy: 0.4357 - factorized_top_k/top_100_categorical_accuracy: 0.6314 - loss: 5099.9675 - regularization_loss: 0.0000e+00 - total_loss: 5099.9675\n",
      "Epoch 27/30\n",
      "35/35 [==============================] - 33s 939ms/step - root_mean_squared_error: 0.7677 - factorized_top_k/top_1_categorical_accuracy: 0.0018 - factorized_top_k/top_5_categorical_accuracy: 0.0484 - factorized_top_k/top_10_categorical_accuracy: 0.1079 - factorized_top_k/top_50_categorical_accuracy: 0.4371 - factorized_top_k/top_100_categorical_accuracy: 0.6336 - loss: 5092.3457 - regularization_loss: 0.0000e+00 - total_loss: 5092.3457\n",
      "Epoch 28/30\n",
      "35/35 [==============================] - 37s 1s/step - root_mean_squared_error: 0.7641 - factorized_top_k/top_1_categorical_accuracy: 0.0020 - factorized_top_k/top_5_categorical_accuracy: 0.0482 - factorized_top_k/top_10_categorical_accuracy: 0.1084 - factorized_top_k/top_50_categorical_accuracy: 0.4387 - factorized_top_k/top_100_categorical_accuracy: 0.6353 - loss: 5085.2416 - regularization_loss: 0.0000e+00 - total_loss: 5085.2416\n",
      "Epoch 29/30\n",
      "35/35 [==============================] - 34s 962ms/step - root_mean_squared_error: 0.7565 - factorized_top_k/top_1_categorical_accuracy: 0.0017 - factorized_top_k/top_5_categorical_accuracy: 0.0482 - factorized_top_k/top_10_categorical_accuracy: 0.1086 - factorized_top_k/top_50_categorical_accuracy: 0.4401 - factorized_top_k/top_100_categorical_accuracy: 0.6375 - loss: 5078.5339 - regularization_loss: 0.0000e+00 - total_loss: 5078.5339\n",
      "Epoch 30/30\n",
      "35/35 [==============================] - 33s 939ms/step - root_mean_squared_error: 0.7519 - factorized_top_k/top_1_categorical_accuracy: 0.0019 - factorized_top_k/top_5_categorical_accuracy: 0.0483 - factorized_top_k/top_10_categorical_accuracy: 0.1088 - factorized_top_k/top_50_categorical_accuracy: 0.4417 - factorized_top_k/top_100_categorical_accuracy: 0.6391 - loss: 5072.2525 - regularization_loss: 0.0000e+00 - total_loss: 5072.2525\n"
     ]
    },
    {
     "data": {
      "text/plain": [
       "<keras.src.callbacks.History at 0x2d776a37280>"
      ]
     },
     "execution_count": 21,
     "metadata": {},
     "output_type": "execute_result"
    }
   ],
   "source": [
    "model = MovieModel(rating_weight=1.0, retrieval_weight=1.0)\n",
    "model.compile(optimizer=tf.keras.optimizers.Adagrad(0.1))\n",
    "\n",
    "cached_train = train.shuffle(100_000).batch(1_000).cache()\n",
    "cached_test = test.batch(1_000).cache()\n",
    "\n",
    "model.fit(cached_train, epochs=30)"
   ]
  },
  {
   "cell_type": "code",
   "execution_count": 22,
   "metadata": {
    "papermill": {
     "duration": 16.215617,
     "end_time": "2022-08-08T09:18:15.851948",
     "exception": false,
     "start_time": "2022-08-08T09:17:59.636331",
     "status": "completed"
    },
    "tags": []
   },
   "outputs": [
    {
     "name": "stdout",
     "output_type": "stream",
     "text": [
      "9/9 [==============================] - 6s 576ms/step - root_mean_squared_error: 1.0497 - factorized_top_k/top_1_categorical_accuracy: 1.2213e-04 - factorized_top_k/top_5_categorical_accuracy: 0.0024 - factorized_top_k/top_10_categorical_accuracy: 0.0054 - factorized_top_k/top_50_categorical_accuracy: 0.0291 - factorized_top_k/top_100_categorical_accuracy: 0.0496 - loss: 5772.9862 - regularization_loss: 0.0000e+00 - total_loss: 5772.9862\n",
      "\n",
      "Retrieval top-100 accuracy: 0.050\n",
      "Ranking RMSE: 1.050\n"
     ]
    }
   ],
   "source": [
    "metrics = model.evaluate(cached_test, return_dict=True)\n",
    "\n",
    "print(f\"\\nRetrieval top-100 accuracy: {metrics['factorized_top_k/top_100_categorical_accuracy']:.3f}\")\n",
    "print(f\"Ranking RMSE: {metrics['root_mean_squared_error']:.3f}\")"
   ]
  },
  {
   "cell_type": "code",
   "execution_count": 23,
   "metadata": {
    "papermill": {
     "duration": 0.068749,
     "end_time": "2022-08-08T09:18:15.975448",
     "exception": false,
     "start_time": "2022-08-08T09:18:15.906699",
     "status": "completed"
    },
    "tags": []
   },
   "outputs": [],
   "source": [
    "def predict_movie(user, top_n=3):\n",
    "    # Create a model that takes in raw query features, and\n",
    "    index = tfrs.layers.factorized_top_k.BruteForce(model.user_model)\n",
    "    # recommends movies out of the entire movies dataset.\n",
    "    index.index_from_dataset(\n",
    "      tf.data.Dataset.zip((movies.batch(100), movies.batch(100).map(model.movie_model)))\n",
    "    )\n",
    "\n",
    "    # Get recommendations.\n",
    "    _, titles = index(tf.constant([str(user)]))\n",
    "    \n",
    "    print('Top {} recommendations for user {}:\\n'.format(top_n, user))\n",
    "    for i, title in enumerate(titles[0, :top_n].numpy()):\n",
    "        print('{}. {}'.format(i+1, title.decode(\"utf-8\")))\n",
    "\n",
    "def predict_rating(user, movie):\n",
    "    trained_movie_embeddings, trained_user_embeddings, predicted_rating = model({\n",
    "          \"userId\": np.array([str(user)]),\n",
    "          \"original_title\": np.array([movie])\n",
    "      })\n",
    "    print(\"Predicted rating for {}: {}\".format(movie, predicted_rating.numpy()[0][0]))"
   ]
  },
  {
   "cell_type": "markdown",
   "metadata": {},
   "source": [
    "# Prediction"
   ]
  },
  {
   "cell_type": "markdown",
   "metadata": {},
   "source": [
    "### UserId: 567"
   ]
  },
  {
   "cell_type": "code",
   "execution_count": 29,
   "metadata": {
    "papermill": {
     "duration": 0.367172,
     "end_time": "2022-08-08T09:18:16.397711",
     "exception": false,
     "start_time": "2022-08-08T09:18:16.030539",
     "status": "completed"
    },
    "tags": []
   },
   "outputs": [
    {
     "name": "stdout",
     "output_type": "stream",
     "text": [
      "Top 10 recommendations for user 567:\n",
      "\n",
      "1. What's New Pussycat?\n",
      "2. The Last Samurai\n",
      "3. Cat on a Hot Tin Roof\n",
      "4. Don Q Son of Zorro\n",
      "5. The Killing\n",
      "6. Infinity\n",
      "7. Gyakufunsha kazoku\n",
      "8. The In-Laws\n",
      "9. The In-Laws\n",
      "10. Grizzly Man\n"
     ]
    }
   ],
   "source": [
    "predict_movie(567, 10)"
   ]
  },
  {
   "cell_type": "code",
   "execution_count": 28,
   "metadata": {
    "papermill": {
     "duration": 0.073481,
     "end_time": "2022-08-08T09:18:16.525934",
     "exception": false,
     "start_time": "2022-08-08T09:18:16.452453",
     "status": "completed"
    },
    "tags": []
   },
   "outputs": [
    {
     "name": "stdout",
     "output_type": "stream",
     "text": [
      "Predicted rating for Minions: 2.9398865699768066\n"
     ]
    }
   ],
   "source": [
    "predict_rating(567,'Minions')"
   ]
  },
  {
   "cell_type": "markdown",
   "metadata": {
    "papermill": {
     "duration": 0.05488,
     "end_time": "2022-08-08T09:18:16.635569",
     "exception": false,
     "start_time": "2022-08-08T09:18:16.580689",
     "status": "completed"
    },
    "tags": []
   },
   "source": [
    "So, le't examine **User 123** from historical data"
   ]
  },
  {
   "cell_type": "code",
   "execution_count": 30,
   "metadata": {
    "papermill": {
     "duration": 0.081603,
     "end_time": "2022-08-08T09:18:16.771296",
     "exception": false,
     "start_time": "2022-08-08T09:18:16.689693",
     "status": "completed"
    },
    "tags": []
   },
   "outputs": [
    {
     "data": {
      "text/html": [
       "<div>\n",
       "<style scoped>\n",
       "    .dataframe tbody tr th:only-of-type {\n",
       "        vertical-align: middle;\n",
       "    }\n",
       "\n",
       "    .dataframe tbody tr th {\n",
       "        vertical-align: top;\n",
       "    }\n",
       "\n",
       "    .dataframe thead th {\n",
       "        text-align: right;\n",
       "    }\n",
       "</style>\n",
       "<table border=\"1\" class=\"dataframe\">\n",
       "  <thead>\n",
       "    <tr style=\"text-align: right;\">\n",
       "      <th></th>\n",
       "      <th>userId</th>\n",
       "      <th>movieId</th>\n",
       "      <th>rating</th>\n",
       "      <th>date</th>\n",
       "      <th>original_title</th>\n",
       "      <th>genres</th>\n",
       "      <th>overview</th>\n",
       "    </tr>\n",
       "  </thead>\n",
       "  <tbody>\n",
       "    <tr>\n",
       "      <th>38065</th>\n",
       "      <td>567</td>\n",
       "      <td>260</td>\n",
       "      <td>3.5</td>\n",
       "      <td>2015-07-13 15:35:18</td>\n",
       "      <td>The 39 Steps</td>\n",
       "      <td>[{'id': 28, 'name': 'Action'}, {'id': 53, 'nam...</td>\n",
       "      <td>While on vacation in London, Canadian Richard ...</td>\n",
       "    </tr>\n",
       "    <tr>\n",
       "      <th>38066</th>\n",
       "      <td>567</td>\n",
       "      <td>318</td>\n",
       "      <td>5.0</td>\n",
       "      <td>2015-07-13 15:35:11</td>\n",
       "      <td>The Million Dollar Hotel</td>\n",
       "      <td>[{'id': 18, 'name': 'Drama'}, {'id': 53, 'name...</td>\n",
       "      <td>The Million Dollar Hotel starts with a jump fr...</td>\n",
       "    </tr>\n",
       "    <tr>\n",
       "      <th>38067</th>\n",
       "      <td>567</td>\n",
       "      <td>593</td>\n",
       "      <td>4.0</td>\n",
       "      <td>2015-07-13 15:36:09</td>\n",
       "      <td>Солярис</td>\n",
       "      <td>[{'id': 18, 'name': 'Drama'}, {'id': 878, 'nam...</td>\n",
       "      <td>Ground control has been receiving strange tran...</td>\n",
       "    </tr>\n",
       "    <tr>\n",
       "      <th>38068</th>\n",
       "      <td>567</td>\n",
       "      <td>750</td>\n",
       "      <td>4.0</td>\n",
       "      <td>2015-07-13 15:36:35</td>\n",
       "      <td>Murder She Said</td>\n",
       "      <td>[{'id': 18, 'name': 'Drama'}, {'id': 80, 'name...</td>\n",
       "      <td>Miss Marple believes she’s seen a murder in a ...</td>\n",
       "    </tr>\n",
       "    <tr>\n",
       "      <th>38069</th>\n",
       "      <td>567</td>\n",
       "      <td>858</td>\n",
       "      <td>5.0</td>\n",
       "      <td>2015-07-13 15:34:48</td>\n",
       "      <td>Sleepless in Seattle</td>\n",
       "      <td>[{'id': 35, 'name': 'Comedy'}, {'id': 18, 'nam...</td>\n",
       "      <td>A young boy who tries to set his dad up on a d...</td>\n",
       "    </tr>\n",
       "    <tr>\n",
       "      <th>38070</th>\n",
       "      <td>567</td>\n",
       "      <td>924</td>\n",
       "      <td>4.0</td>\n",
       "      <td>2015-07-13 15:38:51</td>\n",
       "      <td>Dawn of the Dead</td>\n",
       "      <td>[{'id': 14, 'name': 'Fantasy'}, {'id': 27, 'na...</td>\n",
       "      <td>A group of surviving people take refuge in a s...</td>\n",
       "    </tr>\n",
       "    <tr>\n",
       "      <th>38071</th>\n",
       "      <td>567</td>\n",
       "      <td>1089</td>\n",
       "      <td>5.0</td>\n",
       "      <td>2015-07-13 15:36:18</td>\n",
       "      <td>Point Break</td>\n",
       "      <td>[{'id': 28, 'name': 'Action'}, {'id': 53, 'nam...</td>\n",
       "      <td>In the coastal town of Los Angeles, a gang of ...</td>\n",
       "    </tr>\n",
       "    <tr>\n",
       "      <th>38072</th>\n",
       "      <td>567</td>\n",
       "      <td>1213</td>\n",
       "      <td>4.5</td>\n",
       "      <td>2015-07-13 15:36:14</td>\n",
       "      <td>The Talented Mr. Ripley</td>\n",
       "      <td>[{'id': 53, 'name': 'Thriller'}, {'id': 80, 'n...</td>\n",
       "      <td>Tom Ripley is a calculating young man who beli...</td>\n",
       "    </tr>\n",
       "    <tr>\n",
       "      <th>38073</th>\n",
       "      <td>567</td>\n",
       "      <td>1265</td>\n",
       "      <td>5.0</td>\n",
       "      <td>2015-07-13 15:37:30</td>\n",
       "      <td>Bridge to Terabithia</td>\n",
       "      <td>[{'id': 12, 'name': 'Adventure'}, {'id': 18, '...</td>\n",
       "      <td>Jesse Aarons trained all summer to become the ...</td>\n",
       "    </tr>\n",
       "    <tr>\n",
       "      <th>38074</th>\n",
       "      <td>567</td>\n",
       "      <td>1732</td>\n",
       "      <td>5.0</td>\n",
       "      <td>2015-07-13 15:38:40</td>\n",
       "      <td>The Prisoner of Zenda</td>\n",
       "      <td>[{'id': 28, 'name': 'Action'}, {'id': 12, 'nam...</td>\n",
       "      <td>Anthony Hope's classic tale gets a decidedly '...</td>\n",
       "    </tr>\n",
       "    <tr>\n",
       "      <th>38075</th>\n",
       "      <td>567</td>\n",
       "      <td>2502</td>\n",
       "      <td>5.0</td>\n",
       "      <td>2015-07-13 15:34:41</td>\n",
       "      <td>The Bourne Supremacy</td>\n",
       "      <td>[{'id': 28, 'name': 'Action'}, {'id': 18, 'nam...</td>\n",
       "      <td>When a CIA operation to purchase classified Ru...</td>\n",
       "    </tr>\n",
       "    <tr>\n",
       "      <th>38076</th>\n",
       "      <td>567</td>\n",
       "      <td>2959</td>\n",
       "      <td>5.0</td>\n",
       "      <td>2015-07-13 15:35:13</td>\n",
       "      <td>License to Wed</td>\n",
       "      <td>[{'id': 35, 'name': 'Comedy'}]</td>\n",
       "      <td>Newly engaged, Ben and Sadie can't wait to sta...</td>\n",
       "    </tr>\n",
       "    <tr>\n",
       "      <th>38077</th>\n",
       "      <td>567</td>\n",
       "      <td>4011</td>\n",
       "      <td>5.0</td>\n",
       "      <td>2015-07-13 15:38:19</td>\n",
       "      <td>Beetlejuice</td>\n",
       "      <td>[{'id': 14, 'name': 'Fantasy'}, {'id': 35, 'na...</td>\n",
       "      <td>Thanks to an untimely demise via drowning, a y...</td>\n",
       "    </tr>\n",
       "    <tr>\n",
       "      <th>38078</th>\n",
       "      <td>567</td>\n",
       "      <td>44191</td>\n",
       "      <td>4.5</td>\n",
       "      <td>2015-07-13 15:37:33</td>\n",
       "      <td>Loose Screws</td>\n",
       "      <td>[{'id': 35, 'name': 'Comedy'}]</td>\n",
       "      <td>Brad, Steve, Hue, and Marvin are four get-nowh...</td>\n",
       "    </tr>\n",
       "    <tr>\n",
       "      <th>38079</th>\n",
       "      <td>567</td>\n",
       "      <td>44555</td>\n",
       "      <td>5.0</td>\n",
       "      <td>2015-07-13 15:39:27</td>\n",
       "      <td>三枪拍案惊奇</td>\n",
       "      <td>[{'id': 35, 'name': 'Comedy'}, {'id': 18, 'nam...</td>\n",
       "      <td>Wang is a gloomy, cunning and avaricious noodl...</td>\n",
       "    </tr>\n",
       "  </tbody>\n",
       "</table>\n",
       "</div>"
      ],
      "text/plain": [
       "      userId  movieId  rating                date            original_title  \\\n",
       "38065    567      260     3.5 2015-07-13 15:35:18              The 39 Steps   \n",
       "38066    567      318     5.0 2015-07-13 15:35:11  The Million Dollar Hotel   \n",
       "38067    567      593     4.0 2015-07-13 15:36:09                   Солярис   \n",
       "38068    567      750     4.0 2015-07-13 15:36:35           Murder She Said   \n",
       "38069    567      858     5.0 2015-07-13 15:34:48      Sleepless in Seattle   \n",
       "38070    567      924     4.0 2015-07-13 15:38:51          Dawn of the Dead   \n",
       "38071    567     1089     5.0 2015-07-13 15:36:18               Point Break   \n",
       "38072    567     1213     4.5 2015-07-13 15:36:14   The Talented Mr. Ripley   \n",
       "38073    567     1265     5.0 2015-07-13 15:37:30      Bridge to Terabithia   \n",
       "38074    567     1732     5.0 2015-07-13 15:38:40     The Prisoner of Zenda   \n",
       "38075    567     2502     5.0 2015-07-13 15:34:41      The Bourne Supremacy   \n",
       "38076    567     2959     5.0 2015-07-13 15:35:13            License to Wed   \n",
       "38077    567     4011     5.0 2015-07-13 15:38:19               Beetlejuice   \n",
       "38078    567    44191     4.5 2015-07-13 15:37:33              Loose Screws   \n",
       "38079    567    44555     5.0 2015-07-13 15:39:27                    三枪拍案惊奇   \n",
       "\n",
       "                                                  genres  \\\n",
       "38065  [{'id': 28, 'name': 'Action'}, {'id': 53, 'nam...   \n",
       "38066  [{'id': 18, 'name': 'Drama'}, {'id': 53, 'name...   \n",
       "38067  [{'id': 18, 'name': 'Drama'}, {'id': 878, 'nam...   \n",
       "38068  [{'id': 18, 'name': 'Drama'}, {'id': 80, 'name...   \n",
       "38069  [{'id': 35, 'name': 'Comedy'}, {'id': 18, 'nam...   \n",
       "38070  [{'id': 14, 'name': 'Fantasy'}, {'id': 27, 'na...   \n",
       "38071  [{'id': 28, 'name': 'Action'}, {'id': 53, 'nam...   \n",
       "38072  [{'id': 53, 'name': 'Thriller'}, {'id': 80, 'n...   \n",
       "38073  [{'id': 12, 'name': 'Adventure'}, {'id': 18, '...   \n",
       "38074  [{'id': 28, 'name': 'Action'}, {'id': 12, 'nam...   \n",
       "38075  [{'id': 28, 'name': 'Action'}, {'id': 18, 'nam...   \n",
       "38076                     [{'id': 35, 'name': 'Comedy'}]   \n",
       "38077  [{'id': 14, 'name': 'Fantasy'}, {'id': 35, 'na...   \n",
       "38078                     [{'id': 35, 'name': 'Comedy'}]   \n",
       "38079  [{'id': 35, 'name': 'Comedy'}, {'id': 18, 'nam...   \n",
       "\n",
       "                                                overview  \n",
       "38065  While on vacation in London, Canadian Richard ...  \n",
       "38066  The Million Dollar Hotel starts with a jump fr...  \n",
       "38067  Ground control has been receiving strange tran...  \n",
       "38068  Miss Marple believes she’s seen a murder in a ...  \n",
       "38069  A young boy who tries to set his dad up on a d...  \n",
       "38070  A group of surviving people take refuge in a s...  \n",
       "38071  In the coastal town of Los Angeles, a gang of ...  \n",
       "38072  Tom Ripley is a calculating young man who beli...  \n",
       "38073  Jesse Aarons trained all summer to become the ...  \n",
       "38074  Anthony Hope's classic tale gets a decidedly '...  \n",
       "38075  When a CIA operation to purchase classified Ru...  \n",
       "38076  Newly engaged, Ben and Sadie can't wait to sta...  \n",
       "38077  Thanks to an untimely demise via drowning, a y...  \n",
       "38078  Brad, Steve, Hue, and Marvin are four get-nowh...  \n",
       "38079  Wang is a gloomy, cunning and avaricious noodl...  "
      ]
     },
     "execution_count": 30,
     "metadata": {},
     "output_type": "execute_result"
    }
   ],
   "source": [
    "ratings_df[ratings_df['userId'] == '567']"
   ]
  },
  {
   "cell_type": "code",
   "execution_count": 32,
   "metadata": {
    "papermill": {
     "duration": 0.400033,
     "end_time": "2022-08-08T09:18:17.227312",
     "exception": false,
     "start_time": "2022-08-08T09:18:16.827279",
     "status": "completed"
    },
    "tags": []
   },
   "outputs": [
    {
     "data": {
      "text/html": [
       "<div>\n",
       "<style scoped>\n",
       "    .dataframe tbody tr th:only-of-type {\n",
       "        vertical-align: middle;\n",
       "    }\n",
       "\n",
       "    .dataframe tbody tr th {\n",
       "        vertical-align: top;\n",
       "    }\n",
       "\n",
       "    .dataframe thead th {\n",
       "        text-align: right;\n",
       "    }\n",
       "</style>\n",
       "<table border=\"1\" class=\"dataframe\">\n",
       "  <thead>\n",
       "    <tr style=\"text-align: right;\">\n",
       "      <th></th>\n",
       "      <th>original_title</th>\n",
       "      <th>genres</th>\n",
       "      <th>overview</th>\n",
       "    </tr>\n",
       "  </thead>\n",
       "  <tbody>\n",
       "    <tr>\n",
       "      <th>1</th>\n",
       "      <td>What's New Pussycat?</td>\n",
       "      <td>[{'id': 35, 'name': 'Comedy'}, {'id': 10749, '...</td>\n",
       "      <td>A playboy who refuses to give up his hedonisti...</td>\n",
       "    </tr>\n",
       "    <tr>\n",
       "      <th>2</th>\n",
       "      <td>The Last Samurai</td>\n",
       "      <td>[{'id': 18, 'name': 'Drama'}, {'id': 28, 'name...</td>\n",
       "      <td>Nathan Algren is an American hired to instruct...</td>\n",
       "    </tr>\n",
       "    <tr>\n",
       "      <th>3</th>\n",
       "      <td>Cat on a Hot Tin Roof</td>\n",
       "      <td>[{'id': 18, 'name': 'Drama'}, {'id': 10749, 'n...</td>\n",
       "      <td>Brick, an alcoholic ex-football player, drinks...</td>\n",
       "    </tr>\n",
       "    <tr>\n",
       "      <th>4</th>\n",
       "      <td>Don Q Son of Zorro</td>\n",
       "      <td>[{'id': 37, 'name': 'Western'}, {'id': 12, 'na...</td>\n",
       "      <td>Returning to the legend that inspired his firs...</td>\n",
       "    </tr>\n",
       "    <tr>\n",
       "      <th>5</th>\n",
       "      <td>The Killing</td>\n",
       "      <td>[{'id': 18, 'name': 'Drama'}, {'id': 28, 'name...</td>\n",
       "      <td>The Killing was Stanley Kubrick’s first film w...</td>\n",
       "    </tr>\n",
       "  </tbody>\n",
       "</table>\n",
       "</div>"
      ],
      "text/plain": [
       "          original_title                                             genres  \\\n",
       "1   What's New Pussycat?  [{'id': 35, 'name': 'Comedy'}, {'id': 10749, '...   \n",
       "2       The Last Samurai  [{'id': 18, 'name': 'Drama'}, {'id': 28, 'name...   \n",
       "3  Cat on a Hot Tin Roof  [{'id': 18, 'name': 'Drama'}, {'id': 10749, 'n...   \n",
       "4     Don Q Son of Zorro  [{'id': 37, 'name': 'Western'}, {'id': 12, 'na...   \n",
       "5            The Killing  [{'id': 18, 'name': 'Drama'}, {'id': 28, 'name...   \n",
       "\n",
       "                                            overview  \n",
       "1  A playboy who refuses to give up his hedonisti...  \n",
       "2  Nathan Algren is an American hired to instruct...  \n",
       "3  Brick, an alcoholic ex-football player, drinks...  \n",
       "4  Returning to the legend that inspired his firs...  \n",
       "5  The Killing was Stanley Kubrick’s first film w...  "
      ]
     },
     "execution_count": 32,
     "metadata": {},
     "output_type": "execute_result"
    }
   ],
   "source": [
    "# Get meta data for predicted movie\n",
    "index = tfrs.layers.factorized_top_k.BruteForce(model.user_model)\n",
    "# recommends movies out of the entire movies dataset.\n",
    "index.index_from_dataset(\n",
    "  tf.data.Dataset.zip((movies.batch(100), movies.batch(100).map(model.movie_model)))\n",
    ")\n",
    "\n",
    "# Get recommendations.\n",
    "_, titles = index(tf.constant(['567']))\n",
    "pred_movies = pd.DataFrame({'original_title': [i.decode('utf-8') for i in titles[0,:5].numpy()]})\n",
    "\n",
    "pred_df = pred_movies.merge(ratings_df[['original_title', 'genres', 'overview']], on='original_title', how='left')\n",
    "pred_df = pred_df[~pred_df['original_title'].duplicated()]\n",
    "pred_df.reset_index(drop=True, inplace=True)\n",
    "pred_df.index = np.arange(1, len(pred_df)+1)\n",
    "\n",
    "pred_df"
   ]
  },
  {
   "cell_type": "markdown",
   "metadata": {
    "papermill": {
     "duration": 0.054507,
     "end_time": "2022-08-08T09:18:17.339595",
     "exception": false,
     "start_time": "2022-08-08T09:18:17.285088",
     "status": "completed"
    },
    "tags": []
   },
   "source": [
    "At a glance, we can see if **User 567** love watching Drama movies most of the time. He/She also gives a good rating for that genre. In our recommendation, We give 5 more Drama movies that we expect him/her to love the movies in a similar way with the previous watched movies.\n",
    "\n",
    "In our dataset, we don't see any Animation movies that have been watched by **User 567**. So, it's not a surprise if the estimated rating for Minions is quite low"
   ]
  },
  {
   "cell_type": "markdown",
   "metadata": {},
   "source": [
    "### User: 99"
   ]
  },
  {
   "cell_type": "code",
   "execution_count": 34,
   "metadata": {},
   "outputs": [
    {
     "name": "stdout",
     "output_type": "stream",
     "text": [
      "Top 10 recommendations for user 99:\n",
      "\n",
      "1. Bonjour Tristesse\n",
      "2. Shall We Dance?\n",
      "3. Double Dragon\n",
      "4. Dracula vs. Frankenstein\n",
      "5. The Final Cut\n",
      "6. The Final Cut\n",
      "7. Crank\n",
      "8. 밀양\n",
      "9. Zodiac\n",
      "10. Zodiac\n"
     ]
    }
   ],
   "source": [
    "predict_movie(99, 10)"
   ]
  },
  {
   "cell_type": "code",
   "execution_count": 35,
   "metadata": {},
   "outputs": [
    {
     "name": "stdout",
     "output_type": "stream",
     "text": [
      "Predicted rating for Toy Story: 2.889596462249756\n"
     ]
    }
   ],
   "source": [
    "predict_rating(99,'Toy Story')"
   ]
  },
  {
   "cell_type": "markdown",
   "metadata": {},
   "source": [
    "**Lets examine User:99 from historical data**"
   ]
  },
  {
   "cell_type": "code",
   "execution_count": 36,
   "metadata": {},
   "outputs": [
    {
     "data": {
      "text/html": [
       "<div>\n",
       "<style scoped>\n",
       "    .dataframe tbody tr th:only-of-type {\n",
       "        vertical-align: middle;\n",
       "    }\n",
       "\n",
       "    .dataframe tbody tr th {\n",
       "        vertical-align: top;\n",
       "    }\n",
       "\n",
       "    .dataframe thead th {\n",
       "        text-align: right;\n",
       "    }\n",
       "</style>\n",
       "<table border=\"1\" class=\"dataframe\">\n",
       "  <thead>\n",
       "    <tr style=\"text-align: right;\">\n",
       "      <th></th>\n",
       "      <th>userId</th>\n",
       "      <th>movieId</th>\n",
       "      <th>rating</th>\n",
       "      <th>date</th>\n",
       "      <th>original_title</th>\n",
       "      <th>genres</th>\n",
       "      <th>overview</th>\n",
       "    </tr>\n",
       "  </thead>\n",
       "  <tbody>\n",
       "    <tr>\n",
       "      <th>6589</th>\n",
       "      <td>99</td>\n",
       "      <td>2</td>\n",
       "      <td>2.0</td>\n",
       "      <td>2000-02-19 16:39:18</td>\n",
       "      <td>Ariel</td>\n",
       "      <td>[{'id': 18, 'name': 'Drama'}, {'id': 80, 'name...</td>\n",
       "      <td>Taisto Kasurinen is a Finnish coal miner whose...</td>\n",
       "    </tr>\n",
       "    <tr>\n",
       "      <th>6590</th>\n",
       "      <td>99</td>\n",
       "      <td>17</td>\n",
       "      <td>3.0</td>\n",
       "      <td>1999-09-29 00:36:39</td>\n",
       "      <td>The Dark</td>\n",
       "      <td>[{'id': 27, 'name': 'Horror'}, {'id': 53, 'nam...</td>\n",
       "      <td>Adèle and her daughter Sarah are traveling on ...</td>\n",
       "    </tr>\n",
       "    <tr>\n",
       "      <th>6591</th>\n",
       "      <td>99</td>\n",
       "      <td>28</td>\n",
       "      <td>3.0</td>\n",
       "      <td>1999-09-29 00:36:39</td>\n",
       "      <td>Apocalypse Now</td>\n",
       "      <td>[{'id': 18, 'name': 'Drama'}, {'id': 10752, 'n...</td>\n",
       "      <td>At the height of the Vietnam war, Captain Benj...</td>\n",
       "    </tr>\n",
       "    <tr>\n",
       "      <th>6592</th>\n",
       "      <td>99</td>\n",
       "      <td>105</td>\n",
       "      <td>3.0</td>\n",
       "      <td>1999-09-29 00:43:27</td>\n",
       "      <td>Back to the Future</td>\n",
       "      <td>[{'id': 12, 'name': 'Adventure'}, {'id': 35, '...</td>\n",
       "      <td>Eighties teenager Marty McFly is accidentally ...</td>\n",
       "    </tr>\n",
       "    <tr>\n",
       "      <th>6593</th>\n",
       "      <td>99</td>\n",
       "      <td>110</td>\n",
       "      <td>3.0</td>\n",
       "      <td>2000-01-10 09:51:40</td>\n",
       "      <td>Trois couleurs : Rouge</td>\n",
       "      <td>[{'id': 18, 'name': 'Drama'}, {'id': 9648, 'na...</td>\n",
       "      <td>Red This is the third film from the trilogy by...</td>\n",
       "    </tr>\n",
       "    <tr>\n",
       "      <th>...</th>\n",
       "      <td>...</td>\n",
       "      <td>...</td>\n",
       "      <td>...</td>\n",
       "      <td>...</td>\n",
       "      <td>...</td>\n",
       "      <td>...</td>\n",
       "      <td>...</td>\n",
       "    </tr>\n",
       "    <tr>\n",
       "      <th>6689</th>\n",
       "      <td>99</td>\n",
       "      <td>4641</td>\n",
       "      <td>5.0</td>\n",
       "      <td>2002-03-01 20:57:04</td>\n",
       "      <td>Read It and Weep</td>\n",
       "      <td>[{'id': 35, 'name': 'Comedy'}, {'id': 18, 'nam...</td>\n",
       "      <td>A young girl turns into an A-List celebrity ov...</td>\n",
       "    </tr>\n",
       "    <tr>\n",
       "      <th>6690</th>\n",
       "      <td>99</td>\n",
       "      <td>4973</td>\n",
       "      <td>5.0</td>\n",
       "      <td>2002-03-01 20:56:51</td>\n",
       "      <td>Sous le Sable</td>\n",
       "      <td>[{'id': 18, 'name': 'Drama'}, {'id': 9648, 'na...</td>\n",
       "      <td>When her husband goes missing at the beach, a ...</td>\n",
       "    </tr>\n",
       "    <tr>\n",
       "      <th>6691</th>\n",
       "      <td>99</td>\n",
       "      <td>4993</td>\n",
       "      <td>5.0</td>\n",
       "      <td>2003-02-09 04:35:19</td>\n",
       "      <td>5 Card Stud</td>\n",
       "      <td>[{'id': 28, 'name': 'Action'}, {'id': 37, 'nam...</td>\n",
       "      <td>The players in an ongoing poker game are being...</td>\n",
       "    </tr>\n",
       "    <tr>\n",
       "      <th>6692</th>\n",
       "      <td>99</td>\n",
       "      <td>4995</td>\n",
       "      <td>5.0</td>\n",
       "      <td>2002-03-01 20:54:22</td>\n",
       "      <td>Boogie Nights</td>\n",
       "      <td>[{'id': 18, 'name': 'Drama'}]</td>\n",
       "      <td>Set in 1977, back when sex was safe, pleasure ...</td>\n",
       "    </tr>\n",
       "    <tr>\n",
       "      <th>6693</th>\n",
       "      <td>99</td>\n",
       "      <td>5991</td>\n",
       "      <td>5.0</td>\n",
       "      <td>2003-02-08 19:30:04</td>\n",
       "      <td>Der letzte Mann</td>\n",
       "      <td>[{'id': 18, 'name': 'Drama'}]</td>\n",
       "      <td>An aging doorman, after being fired from his p...</td>\n",
       "    </tr>\n",
       "  </tbody>\n",
       "</table>\n",
       "<p>105 rows × 7 columns</p>\n",
       "</div>"
      ],
      "text/plain": [
       "     userId  movieId  rating                date          original_title  \\\n",
       "6589     99        2     2.0 2000-02-19 16:39:18                   Ariel   \n",
       "6590     99       17     3.0 1999-09-29 00:36:39                The Dark   \n",
       "6591     99       28     3.0 1999-09-29 00:36:39          Apocalypse Now   \n",
       "6592     99      105     3.0 1999-09-29 00:43:27      Back to the Future   \n",
       "6593     99      110     3.0 2000-01-10 09:51:40  Trois couleurs : Rouge   \n",
       "...     ...      ...     ...                 ...                     ...   \n",
       "6689     99     4641     5.0 2002-03-01 20:57:04        Read It and Weep   \n",
       "6690     99     4973     5.0 2002-03-01 20:56:51           Sous le Sable   \n",
       "6691     99     4993     5.0 2003-02-09 04:35:19             5 Card Stud   \n",
       "6692     99     4995     5.0 2002-03-01 20:54:22           Boogie Nights   \n",
       "6693     99     5991     5.0 2003-02-08 19:30:04         Der letzte Mann   \n",
       "\n",
       "                                                 genres  \\\n",
       "6589  [{'id': 18, 'name': 'Drama'}, {'id': 80, 'name...   \n",
       "6590  [{'id': 27, 'name': 'Horror'}, {'id': 53, 'nam...   \n",
       "6591  [{'id': 18, 'name': 'Drama'}, {'id': 10752, 'n...   \n",
       "6592  [{'id': 12, 'name': 'Adventure'}, {'id': 35, '...   \n",
       "6593  [{'id': 18, 'name': 'Drama'}, {'id': 9648, 'na...   \n",
       "...                                                 ...   \n",
       "6689  [{'id': 35, 'name': 'Comedy'}, {'id': 18, 'nam...   \n",
       "6690  [{'id': 18, 'name': 'Drama'}, {'id': 9648, 'na...   \n",
       "6691  [{'id': 28, 'name': 'Action'}, {'id': 37, 'nam...   \n",
       "6692                      [{'id': 18, 'name': 'Drama'}]   \n",
       "6693                      [{'id': 18, 'name': 'Drama'}]   \n",
       "\n",
       "                                               overview  \n",
       "6589  Taisto Kasurinen is a Finnish coal miner whose...  \n",
       "6590  Adèle and her daughter Sarah are traveling on ...  \n",
       "6591  At the height of the Vietnam war, Captain Benj...  \n",
       "6592  Eighties teenager Marty McFly is accidentally ...  \n",
       "6593  Red This is the third film from the trilogy by...  \n",
       "...                                                 ...  \n",
       "6689  A young girl turns into an A-List celebrity ov...  \n",
       "6690  When her husband goes missing at the beach, a ...  \n",
       "6691  The players in an ongoing poker game are being...  \n",
       "6692  Set in 1977, back when sex was safe, pleasure ...  \n",
       "6693  An aging doorman, after being fired from his p...  \n",
       "\n",
       "[105 rows x 7 columns]"
      ]
     },
     "execution_count": 36,
     "metadata": {},
     "output_type": "execute_result"
    }
   ],
   "source": [
    "ratings_df[ratings_df['userId'] == '99']"
   ]
  },
  {
   "cell_type": "code",
   "execution_count": 37,
   "metadata": {},
   "outputs": [
    {
     "data": {
      "text/html": [
       "<div>\n",
       "<style scoped>\n",
       "    .dataframe tbody tr th:only-of-type {\n",
       "        vertical-align: middle;\n",
       "    }\n",
       "\n",
       "    .dataframe tbody tr th {\n",
       "        vertical-align: top;\n",
       "    }\n",
       "\n",
       "    .dataframe thead th {\n",
       "        text-align: right;\n",
       "    }\n",
       "</style>\n",
       "<table border=\"1\" class=\"dataframe\">\n",
       "  <thead>\n",
       "    <tr style=\"text-align: right;\">\n",
       "      <th></th>\n",
       "      <th>original_title</th>\n",
       "      <th>genres</th>\n",
       "      <th>overview</th>\n",
       "    </tr>\n",
       "  </thead>\n",
       "  <tbody>\n",
       "    <tr>\n",
       "      <th>1</th>\n",
       "      <td>Bonjour Tristesse</td>\n",
       "      <td>[{'id': 18, 'name': 'Drama'}]</td>\n",
       "      <td>Cecile, decadent young girl who lives with her...</td>\n",
       "    </tr>\n",
       "    <tr>\n",
       "      <th>2</th>\n",
       "      <td>Shall We Dance?</td>\n",
       "      <td>[{'id': 18, 'name': 'Drama'}, {'id': 10749, 'n...</td>\n",
       "      <td>Upon first sight of a beautiful instructor, a ...</td>\n",
       "    </tr>\n",
       "    <tr>\n",
       "      <th>3</th>\n",
       "      <td>Double Dragon</td>\n",
       "      <td>[{'id': 28, 'name': 'Action'}, {'id': 12, 'nam...</td>\n",
       "      <td>Set 15 years in the future in post-earthquake ...</td>\n",
       "    </tr>\n",
       "    <tr>\n",
       "      <th>4</th>\n",
       "      <td>Dracula vs. Frankenstein</td>\n",
       "      <td>[{'id': 27, 'name': 'Horror'}, {'id': 878, 'na...</td>\n",
       "      <td>Dracula conspires with a mad doctor to resurre...</td>\n",
       "    </tr>\n",
       "    <tr>\n",
       "      <th>5</th>\n",
       "      <td>The Final Cut</td>\n",
       "      <td>[{'id': 28, 'name': 'Action'}, {'id': 18, 'nam...</td>\n",
       "      <td>Mysterious bomber is planting explosive device...</td>\n",
       "    </tr>\n",
       "  </tbody>\n",
       "</table>\n",
       "</div>"
      ],
      "text/plain": [
       "             original_title  \\\n",
       "1         Bonjour Tristesse   \n",
       "2           Shall We Dance?   \n",
       "3             Double Dragon   \n",
       "4  Dracula vs. Frankenstein   \n",
       "5             The Final Cut   \n",
       "\n",
       "                                              genres  \\\n",
       "1                      [{'id': 18, 'name': 'Drama'}]   \n",
       "2  [{'id': 18, 'name': 'Drama'}, {'id': 10749, 'n...   \n",
       "3  [{'id': 28, 'name': 'Action'}, {'id': 12, 'nam...   \n",
       "4  [{'id': 27, 'name': 'Horror'}, {'id': 878, 'na...   \n",
       "5  [{'id': 28, 'name': 'Action'}, {'id': 18, 'nam...   \n",
       "\n",
       "                                            overview  \n",
       "1  Cecile, decadent young girl who lives with her...  \n",
       "2  Upon first sight of a beautiful instructor, a ...  \n",
       "3  Set 15 years in the future in post-earthquake ...  \n",
       "4  Dracula conspires with a mad doctor to resurre...  \n",
       "5  Mysterious bomber is planting explosive device...  "
      ]
     },
     "execution_count": 37,
     "metadata": {},
     "output_type": "execute_result"
    }
   ],
   "source": [
    "# Get meta data for predicted movie\n",
    "index = tfrs.layers.factorized_top_k.BruteForce(model.user_model)\n",
    "# recommends movies out of the entire movies dataset.\n",
    "index.index_from_dataset(\n",
    "  tf.data.Dataset.zip((movies.batch(100), movies.batch(100).map(model.movie_model)))\n",
    ")\n",
    "\n",
    "# Get recommendations.\n",
    "_, titles = index(tf.constant(['99']))\n",
    "pred_movies = pd.DataFrame({'original_title': [i.decode('utf-8') for i in titles[0,:5].numpy()]})\n",
    "\n",
    "pred_df = pred_movies.merge(ratings_df[['original_title', 'genres', 'overview']], on='original_title', how='left')\n",
    "pred_df = pred_df[~pred_df['original_title'].duplicated()]\n",
    "pred_df.reset_index(drop=True, inplace=True)\n",
    "pred_df.index = np.arange(1, len(pred_df)+1)\n",
    "\n",
    "pred_df"
   ]
  },
  {
   "cell_type": "markdown",
   "metadata": {},
   "source": [
    "At a glance, we can see if **User 99** love watching Drama, Action genre movies most of the time. He/She also gives a good rating for that genre. In our recommendation, We give 5 more Drama movies that we expect him/her to love the movies in a similar way with the previous watched movies.\n",
    "\n",
    "In our dataset, we don't see any Animation movies that have been watched by **User 99**. So, it's not a surprise if the estimated rating for Toy Story is quite low"
   ]
  },
  {
   "cell_type": "markdown",
   "metadata": {
    "papermill": {
     "duration": 0.054898,
     "end_time": "2022-08-08T09:18:17.559199",
     "exception": false,
     "start_time": "2022-08-08T09:18:17.504301",
     "status": "completed"
    },
    "tags": []
   },
   "source": [
    "<h1 style=\"font-family: Trebuchet MS; font-size: 60px; color: #1b4332; text-align: center;\"><b>THE END</b></h1>"
   ]
  }
 ],
 "metadata": {
  "kaggle": {
   "accelerator": "none",
   "dataSources": [
    {
     "datasetId": 626,
     "sourceId": 1187,
     "sourceType": "datasetVersion"
    },
    {
     "datasetId": 138,
     "sourceId": 4508,
     "sourceType": "datasetVersion"
    },
    {
     "datasetId": 2559,
     "sourceId": 4966,
     "sourceType": "datasetVersion"
    },
    {
     "datasetId": 3405,
     "sourceId": 6663,
     "sourceType": "datasetVersion"
    },
    {
     "datasetId": 7181,
     "sourceId": 10279,
     "sourceType": "datasetVersion"
    },
    {
     "datasetId": 11616,
     "sourceId": 16363,
     "sourceType": "datasetVersion"
    },
    {
     "datasetId": 339,
     "sourceId": 77759,
     "sourceType": "datasetVersion"
    },
    {
     "datasetId": 60876,
     "sourceId": 118283,
     "sourceType": "datasetVersion"
    },
    {
     "datasetId": 64890,
     "sourceId": 127736,
     "sourceType": "datasetVersion"
    },
    {
     "datasetId": 134715,
     "sourceId": 320111,
     "sourceType": "datasetVersion"
    },
    {
     "datasetId": 1636,
     "sourceId": 792972,
     "sourceType": "datasetVersion"
    },
    {
     "datasetId": 858948,
     "sourceId": 1464660,
     "sourceType": "datasetVersion"
    },
    {
     "datasetId": 1109013,
     "sourceId": 1863460,
     "sourceType": "datasetVersion"
    },
    {
     "datasetId": 1131493,
     "sourceId": 1898721,
     "sourceType": "datasetVersion"
    },
    {
     "datasetId": 2745,
     "sourceId": 2456241,
     "sourceType": "datasetVersion"
    },
    {
     "datasetId": 434238,
     "sourceId": 2654038,
     "sourceType": "datasetVersion"
    },
    {
     "datasetId": 1643699,
     "sourceId": 2698943,
     "sourceType": "datasetVersion"
    },
    {
     "datasetId": 1624191,
     "sourceId": 2864236,
     "sourceType": "datasetVersion"
    },
    {
     "datasetId": 669193,
     "sourceId": 2935141,
     "sourceType": "datasetVersion"
    },
    {
     "datasetId": 1968448,
     "sourceId": 3247929,
     "sourceType": "datasetVersion"
    },
    {
     "datasetId": 2178661,
     "sourceId": 3989707,
     "sourceType": "datasetVersion"
    },
    {
     "datasetId": 592158,
     "sourceId": 7398613,
     "sourceType": "datasetVersion"
    }
   ],
   "dockerImageVersionId": 30213,
   "isGpuEnabled": false,
   "isInternetEnabled": true,
   "language": "python",
   "sourceType": "notebook"
  },
  "kernelspec": {
   "display_name": "Python 3 (ipykernel)",
   "language": "python",
   "name": "python3"
  },
  "language_info": {
   "codemirror_mode": {
    "name": "ipython",
    "version": 3
   },
   "file_extension": ".py",
   "mimetype": "text/x-python",
   "name": "python",
   "nbconvert_exporter": "python",
   "pygments_lexer": "ipython3",
   "version": "3.9.18"
  }
 },
 "nbformat": 4,
 "nbformat_minor": 4
}
